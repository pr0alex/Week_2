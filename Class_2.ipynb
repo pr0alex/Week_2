{
 "cells": [
  {
   "cell_type": "markdown",
   "metadata": {},
   "source": [
    "<div style=\"font-size:18pt; padding-top:20px; text-align:center\">СЕМИНАР 2. <b>Введение в </b> <span style=\"font-weight:bold; color:green\">Pandas</span></div><hr>\n",
    "<div style=\"text-align:right;\">Папулин С.Ю. <span style=\"font-style: italic;font-weight: bold;\">(papulin_hse@mail.ru)</span></div>"
   ]
  },
  {
   "cell_type": "markdown",
   "metadata": {},
   "source": [
    "<a name=\"0\"></a>\n",
    "<div><span style=\"font-size:14pt; font-weight:bold\">Содержание</span>\n",
    "    <ol>\n",
    "        <li><a href=\"#1\">Основные типы данных в Pandas</a></li>\n",
    "            <ol style = \"list-style-type:lower-alpha\">\n",
    "                <li><a href=\"#1a\">Последовательность</a></li>\n",
    "                <li><a href=\"#1b\">Табличная структура данных (DataFrame)</a></li>\n",
    "                <li><a href=\"#1c\">Панель (Panel)</a></li>\n",
    "            </ol>\n",
    "        <li><a href=\"#2\">Первые шаги с DataFrame</a></li>\n",
    "            <ol style = \"list-style-type:lower-alpha\">\n",
    "                <li><a href=\"#2a\">Создание DataFrame</a></li>\n",
    "                <li><a href=\"#2b\">Обращение к элементам</a></li>\n",
    "                <li><a href=\"#2c\">Запись содержания DataFrame во внешний файл</a></li>\n",
    "                <li><a href=\"#2d\">Загрузка внешних данных в DataFrame</a></li>\n",
    "            </ol>\n",
    "        <li><a href=\"#3\">Манипулирование DataFrame'ми</a></li>\n",
    "            <ol style = \"list-style-type:lower-alpha\">\n",
    "                <li><a href=\"#3a\">Столбцы</a></li>\n",
    "                <li><a href=\"#3b\">Строки</a></li>\n",
    "                <li><a href=\"#3c\">Значения ячеек</a></li>\n",
    "                <li><a href=\"#3d\">Группировка</a></li>\n",
    "                <li><a href=\"#3e\">Сортировка</a></li>\n",
    "                <li><a href=\"#3f\">Сложные индексы</a></li>\n",
    "                <li><a href=\"#3g\">Объединение DataFrame'ов: <i>append, concat, merge, join</i></a></li>\n",
    "                <li><a href=\"#3h\">Методы <i>iterrows</i>, <i>map</i>, <i>apply</i>, <i>applymap</i></a></li>\n",
    "            </ol>\n",
    "        <li><a href=\"#4\">Математическая поддержка</a></li>\n",
    "            <ol style = \"list-style-type:lower-alpha\">\n",
    "                <li><a href=\"#4a\">Операции со столбцами</a></li>\n",
    "                <li><a href=\"#4b\">Специальные методы</a></li>\n",
    "            </ol>\n",
    "        <li><a href=\"#5\">Визуализация данных</a></li>\n",
    "            <ol style = \"list-style-type:lower-alpha\">\n",
    "                <li><a href=\"#5a\">График (plot)</a></li>\n",
    "                <li><a href=\"#5b\">Гистограмма</a></li>\n",
    "            </ol>\n",
    "        <li><a href=\"#6\">Источники</a></li>\n",
    "    </ol>\n",
    "</div>"
   ]
  },
  {
   "cell_type": "markdown",
   "metadata": {},
   "source": [
    "<a name=\"1\"></a>\n",
    "<div style=\"display:table; width:100%; padding-top:10px; padding-bottom:10px; border-bottom:1px solid lightgrey\">\n",
    "    <div style=\"display:table-row\">\n",
    "        <div style=\"display:table-cell; width:80%; font-size:14pt; font-weight:bold\">1. Основные типы данных в <span style=\"font-weight:bold; color:green\">Pandas</span></div>\n",
    "    \t<div style=\"display:table-cell; width:20%; text-align:center; background-color:whitesmoke; border:1px solid lightgrey\"><a href=\"#0\">К содержанию</a></div>\n",
    "    </div>\n",
    "</div>"
   ]
  },
  {
   "cell_type": "markdown",
   "metadata": {},
   "source": [
    "<div>\n",
    "<p><b>Рассматриваемые вопросы:</b></p>\n",
    "<p style=\"line-height:20pt\">\n",
    "a) последовательность <span style=\"font-weight:bold; color:green\">Series</span><br> \n",
    "b) табличная структура <span style=\"font-weight:bold; color:green\">DataFrame</span><br> \n",
    "c) панель <span style=\"font-weight:bold; color:green\">Panel</span><br>\n",
    "</div>"
   ]
  },
  {
   "cell_type": "code",
   "execution_count": null,
   "metadata": {
    "collapsed": true
   },
   "outputs": [],
   "source": [
    "import pandas as pnd\n",
    "import numpy as np"
   ]
  },
  {
   "cell_type": "markdown",
   "metadata": {},
   "source": [
    "<a name = \"1a\"></a>\n",
    "<div style=\"padding-top:10px;\">\n",
    "    <div style=\"display: inline-block; font-style:italic; font-weight:bold; font-size:12pt\">a. Последовательность (<span style=\"font-weight:bold; color:green\">Series</span>)</div>\n",
    "    <div style=\"display: inline-block; float:right; width:20%; text-align:center; border:1px solid lightgrey\">\n",
    "        <div style=\"display: inline-block; text-align:center; width:50%; background-color:whitesmoke;\"><a href=\"#1\">Назад</a></div><div style=\"display: inline-block; text-align:center; width:50%;\"><a href=\"#1b\">Далее</a></div>\n",
    "    </div>\n",
    "</div>"
   ]
  },
  {
   "cell_type": "markdown",
   "metadata": {},
   "source": [
    "<p>Последовательность <span style=\"font-weight:bold; color:green\">Series</span> - одномерный массив с метками (индексами) для хранения различных типов данных: целых (integer), действительных чисел (float), строк (string), объектов Python</p>"
   ]
  },
  {
   "cell_type": "code",
   "execution_count": null,
   "metadata": {
    "collapsed": false
   },
   "outputs": [],
   "source": [
    "s = pnd.Series(data = [\"Dima\", \"Sveta\",\"Alex\", \"Ivan\", \"Kate\", \"Maria\"], index = list(range(1,7)), name = \"Name\")\n",
    "s"
   ]
  },
  {
   "cell_type": "code",
   "execution_count": null,
   "metadata": {
    "collapsed": false
   },
   "outputs": [],
   "source": [
    "lNum = [-2.011894, 0.098981, 0.693385, 1.055508, 0.640023]\n",
    "lNum"
   ]
  },
  {
   "cell_type": "code",
   "execution_count": null,
   "metadata": {
    "collapsed": false
   },
   "outputs": [],
   "source": [
    "s2 = pnd.Series(data = lNum, index=['a', 'b', 'c', 'd', 'e'], name = \"Number\")\n",
    "s2"
   ]
  },
  {
   "cell_type": "code",
   "execution_count": null,
   "metadata": {
    "collapsed": false
   },
   "outputs": [],
   "source": [
    "s3 = pnd.Series(data = lNum, index=['a', 'b', 'c', 'd', 'e'], name = \"Number\", dtype = 'int')\n",
    "s3"
   ]
  },
  {
   "cell_type": "markdown",
   "metadata": {},
   "source": [
    "<p>Вывод первых (<i>head</i>) и последних (<i>tail</i>) $n$ значений</p>"
   ]
  },
  {
   "cell_type": "code",
   "execution_count": null,
   "metadata": {
    "collapsed": false
   },
   "outputs": [],
   "source": [
    "s.head(2)"
   ]
  },
  {
   "cell_type": "code",
   "execution_count": null,
   "metadata": {
    "collapsed": false
   },
   "outputs": [],
   "source": [
    "s.tail(2)"
   ]
  },
  {
   "cell_type": "markdown",
   "metadata": {},
   "source": [
    "<p>Обращение к элементам <span style=\"font-weight:bold; color:green\">Series</span></p>"
   ]
  },
  {
   "cell_type": "code",
   "execution_count": null,
   "metadata": {
    "collapsed": false
   },
   "outputs": [],
   "source": [
    "s[3]"
   ]
  },
  {
   "cell_type": "code",
   "execution_count": null,
   "metadata": {
    "collapsed": false
   },
   "outputs": [],
   "source": [
    "s2['b']"
   ]
  },
  {
   "cell_type": "code",
   "execution_count": null,
   "metadata": {
    "collapsed": false
   },
   "outputs": [],
   "source": [
    "s[3] = \"NewAlex\"\n",
    "s"
   ]
  },
  {
   "cell_type": "markdown",
   "metadata": {},
   "source": [
    "<a name = \"1b\"></a>\n",
    "<div style=\"padding-top:10px;\">\n",
    "    <div style=\"display: inline-block; font-style:italic; font-weight:bold; font-size:12pt\">b. Табличная структура данных (<span style=\"font-weight:bold; color:green\">DataFrame</span>)</div>\n",
    "    <div style=\"display: inline-block; float:right; width:20%; text-align:center; border:1px solid lightgrey\">\n",
    "        <div style=\"display: inline-block; text-align:center; width:50%; background-color:whitesmoke;\"><a href=\"#1a\">Назад</a></div><div style=\"display: inline-block; text-align:center; width:50%;\"><a href=\"#1c\">Далее</a></div>\n",
    "    </div>\n",
    "</div>"
   ]
  },
  {
   "cell_type": "markdown",
   "metadata": {},
   "source": [
    "<p>Табличная структура <span style=\"font-weight:bold; color:green\">DataFrame</span> - двумерный массив с метками</p>"
   ]
  },
  {
   "cell_type": "code",
   "execution_count": null,
   "metadata": {
    "collapsed": false
   },
   "outputs": [],
   "source": [
    "randMatrix = np.random.randn(4,3)\n",
    "randMatrix"
   ]
  },
  {
   "cell_type": "code",
   "execution_count": null,
   "metadata": {
    "collapsed": false
   },
   "outputs": [],
   "source": [
    "lCmls = [\"Column_1\", \"Column_2\", \"Column_3\"]\n",
    "lCmls"
   ]
  },
  {
   "cell_type": "code",
   "execution_count": null,
   "metadata": {
    "collapsed": false
   },
   "outputs": [],
   "source": [
    "df = pnd.DataFrame(data = randMatrix, columns = lCmls)\n",
    "df"
   ]
  },
  {
   "cell_type": "code",
   "execution_count": null,
   "metadata": {
    "collapsed": false
   },
   "outputs": [],
   "source": [
    "df2 = pnd.DataFrame(data = randMatrix, columns = lCmls, index = ['a','b','c','d'])\n",
    "df2"
   ]
  },
  {
   "cell_type": "markdown",
   "metadata": {},
   "source": [
    "<p>Вывод первых и последних $n$ значений</p>"
   ]
  },
  {
   "cell_type": "code",
   "execution_count": null,
   "metadata": {
    "collapsed": false
   },
   "outputs": [],
   "source": [
    "df2.head(2)"
   ]
  },
  {
   "cell_type": "code",
   "execution_count": null,
   "metadata": {
    "collapsed": false
   },
   "outputs": [],
   "source": [
    "df2.tail(2)"
   ]
  },
  {
   "cell_type": "markdown",
   "metadata": {},
   "source": [
    "<p>Способы обращения к столбцам, строкам и ячейкам <span style=\"font-weight:bold; color:green\">DataFrame</span>'а рассматриваются в следующих разделах</p>"
   ]
  },
  {
   "cell_type": "markdown",
   "metadata": {},
   "source": [
    "<a name = \"1c\"></a>\n",
    "<div style=\"padding-top:10px;\">\n",
    "    <div style=\"display: inline-block; font-style:italic; font-weight:bold; font-size:12pt\">с. Панель (<span style=\"font-weight:bold; color:green\">Panel</span>)</div>\n",
    "    <div style=\"display: inline-block; float:right; width:20%; text-align:center; border:1px solid lightgrey\">\n",
    "        <div style=\"display: inline-block; text-align:center; width:50%; background-color:whitesmoke;\"><a href=\"#1b\">Назад</a></div><div style=\"display: inline-block; text-align:center; width:50%;\"><a href=\"#2\">Далее</a></div>\n",
    "    </div>\n",
    "</div>"
   ]
  },
  {
   "cell_type": "markdown",
   "metadata": {
    "collapsed": true
   },
   "source": [
    "<p>Панель <span style=\"font-weight:bold; color:green\">Panel</span> - контейнер для трехмерных данных</p>"
   ]
  },
  {
   "cell_type": "markdown",
   "metadata": {},
   "source": [
    "<p>Создание панели с использованием списков</p>"
   ]
  },
  {
   "cell_type": "code",
   "execution_count": null,
   "metadata": {
    "collapsed": false
   },
   "outputs": [],
   "source": [
    "m3DimData = [[[\"TV\", 100, 40],\n",
    "              [\"Smartphone\", 50, 10], \n",
    "              [\"Pendrive\", 10, 10]],\n",
    "             [[\"TV\", 90, 48],\n",
    "              [\"Smartphone\", 45, 12], \n",
    "              [\"Pendrive\", 12, 8]]]\n",
    "m3DimData"
   ]
  },
  {
   "cell_type": "code",
   "execution_count": null,
   "metadata": {
    "collapsed": false
   },
   "outputs": [],
   "source": [
    "p = pnd.Panel(data = m3DimData, items = [\"Jan\", \"Feb\"], major_axis=list(range(3)),  minor_axis = [\"Item_Name\",\"Item_Price\",\"Item_Total\"])\n",
    "p"
   ]
  },
  {
   "cell_type": "markdown",
   "metadata": {},
   "source": [
    "<p>Создание панели через словарь</p>"
   ]
  },
  {
   "cell_type": "code",
   "execution_count": null,
   "metadata": {
    "collapsed": false
   },
   "outputs": [],
   "source": [
    "d3DimData = {\"Jan\": {\"Item_Name\":[\"TV\", \"Smartphone\", \"Pendrive\"],\n",
    "                    \"Item_Price\":[100, 50, 10], \n",
    "                    \"Item_Total\": [40, 10, 10]}, \n",
    "            \"Feb\": {\"Item_Name\":[\"TV\", \"Smartphone\", \"Pendrive\"],\n",
    "                    \"Item_Price\":[90, 45, 12], \n",
    "                    \"Item_Total\": [48, 12, 8]}}\n",
    "d3DimData"
   ]
  },
  {
   "cell_type": "code",
   "execution_count": null,
   "metadata": {
    "collapsed": false
   },
   "outputs": [],
   "source": [
    "p2 = pnd.Panel(data = d3DimData)\n",
    "p2"
   ]
  },
  {
   "cell_type": "markdown",
   "metadata": {},
   "source": [
    "<p>Обращение к таблицам <span style=\"font-weight:bold; color:green\">Panel</span></p>"
   ]
  },
  {
   "cell_type": "code",
   "execution_count": null,
   "metadata": {
    "collapsed": false
   },
   "outputs": [],
   "source": [
    "p['Jan']"
   ]
  },
  {
   "cell_type": "code",
   "execution_count": null,
   "metadata": {
    "collapsed": false
   },
   "outputs": [],
   "source": [
    "p2['Jan']"
   ]
  },
  {
   "cell_type": "code",
   "execution_count": null,
   "metadata": {
    "collapsed": false
   },
   "outputs": [],
   "source": [
    "p['Feb']"
   ]
  },
  {
   "cell_type": "code",
   "execution_count": null,
   "metadata": {
    "collapsed": false
   },
   "outputs": [],
   "source": [
    "p2['Feb']"
   ]
  },
  {
   "cell_type": "markdown",
   "metadata": {},
   "source": [
    "<a name=\"2\"></a>\n",
    "<div style=\"display:table; width:100%; padding-top:10px; padding-bottom:10px; border-bottom:1px solid lightgrey\">\n",
    "    <div style=\"display:table-row\">\n",
    "        <div style=\"display:table-cell; width:80%; font-size:14pt; font-weight:bold\">2. Первые шаги с <span style=\"font-weight:bold; color:green\">DataFrame</span></div>\n",
    "    \t<div style=\"display:table-cell; width:20%; text-align:center; background-color:whitesmoke; border:1px solid lightgrey\"><a href=\"#0\">К содержанию</a></div>\n",
    "    </div>\n",
    "</div>"
   ]
  },
  {
   "cell_type": "markdown",
   "metadata": {},
   "source": [
    "<div>\n",
    "<p><b>Рассматриваемые вопросы:</b></p>\n",
    "<p style=\"line-height:20pt\">\n",
    "a) создание <span style=\"font-weight:bold; color:green\">DataFrame</span>'а: <i>с использованием матрицы, списков, словаря, последовательностей</i><br> \n",
    "b) обращение к элементам<br> \n",
    "c) запись содержания <span style=\"font-weight:bold; color:green\">DataFrame</span>'а во внешний файл: <i><b>csv</b> формат данных</i><br> \n",
    "d) загрузка внешних данных в <span style=\"font-weight:bold; color:green\">DataFrame</span>: <i>обращение к ячейкам, изменение значений</i><br>\n",
    "</div>"
   ]
  },
  {
   "cell_type": "markdown",
   "metadata": {},
   "source": [
    "<a name = \"2a\"></a>\n",
    "<div style=\"padding-top:10px;\">\n",
    "    <div style=\"display: inline-block; font-style:italic; font-weight:bold; font-size:12pt\">a. Создание <span style=\"font-weight:bold; color:green\">DataFrame</span>'а</div>\n",
    "    <div style=\"display: inline-block; float:right; width:20%; text-align:center; border:1px solid lightgrey\">\n",
    "        <div style=\"display: inline-block; text-align:center; width:50%; background-color:whitesmoke;\"><a href=\"#2\">Назад</a></div><div style=\"display: inline-block; text-align:center; width:50%;\"><a href=\"#2b\">Далее</a></div>\n",
    "    </div>\n",
    "</div>"
   ]
  },
  {
   "cell_type": "markdown",
   "metadata": {},
   "source": [
    "<p>Создание <span style=\"font-weight:bold; color:green\">DataFrame</span>'а с использованием <i>матрицы</i></p>"
   ]
  },
  {
   "cell_type": "code",
   "execution_count": null,
   "metadata": {
    "collapsed": false
   },
   "outputs": [],
   "source": [
    "matrix = [['Dima', 'Moscow', 1988, 4, 'm'],\n",
    " ['Sveta', 'Kiev', 1999, 4, 'f'],\n",
    " ['Alex', 'Minsk', 1954, np.NaN, 'm'],\n",
    " ['Ivan', 'St.Petersburg', 2005, 6, 'm'],\n",
    " ['Kate', 'London', 2001, np.NaN, 'f'],\n",
    " ['Maria', 'New York', 1997, 7, 'f']]\n",
    "matrix"
   ]
  },
  {
   "cell_type": "code",
   "execution_count": null,
   "metadata": {
    "collapsed": false
   },
   "outputs": [],
   "source": [
    "df = pnd.DataFrame(data = matrix, columns = [\"Name\", \"City\", \"Year\", \"Grade\", \"Sex\"])\n",
    "df"
   ]
  },
  {
   "cell_type": "markdown",
   "metadata": {},
   "source": [
    "<p>Создание <span style=\"font-weight:bold; color:green\">DataFrame</span>'а с использованием <i>списков</i> и <b>zip()</b></p>"
   ]
  },
  {
   "cell_type": "code",
   "execution_count": null,
   "metadata": {
    "collapsed": false
   },
   "outputs": [],
   "source": [
    "names = [\"Dima\", \"Sveta\",\"Alex\", \"Ivan\", \"Kate\", \"Maria\"]\n",
    "cities = [\"Moscow\", \"Kiev\", \"Minsk\", \"St.Petersburg\", \"London\", \"New York\"]\n",
    "year = [1988, 1999, 1954, 2005, 2001, 1997]\n",
    "grades = [4, 4, np.NaN, 6, np.NaN, 7]\n",
    "sex = [\"m\", \"f\", \"m\", \"m\", \"f\", \"f\"]\n",
    "\n",
    "rows = list(zip(names, cities, year, grades, sex))\n",
    "rows"
   ]
  },
  {
   "cell_type": "code",
   "execution_count": null,
   "metadata": {
    "collapsed": false
   },
   "outputs": [],
   "source": [
    "df = pnd.DataFrame(data = rows, columns = [\"Name\", \"City\", \"Year\", \"Grade\", \"Sex\"])\n",
    "df"
   ]
  },
  {
   "cell_type": "markdown",
   "metadata": {},
   "source": [
    "<p>Создание <span style=\"font-weight:bold; color:green\">DataFrame</span>'а с использованием <i>списков</i> и <i>словаря</i></p>"
   ]
  },
  {
   "cell_type": "code",
   "execution_count": null,
   "metadata": {
    "collapsed": false
   },
   "outputs": [],
   "source": [
    "dictL = {\"Name\":[\"Dima\", \"Sveta\",\"Alex\", \"Ivan\", \"Kate\", \"Maria\"],\n",
    "        \"City\":[\"Moscow\", \"Kiev\", \"Minsk\", \"St.Petersburg\", \"London\", \"New York\"],\n",
    "        \"Year\":[1988, 1999, 1954, 2005, 2001, 1997],\n",
    "        \"Grade\":[4, 4, np.NaN, 6, np.NaN, 7],\n",
    "        \"Sex\":[\"m\", \"f\", \"m\", \"m\", \"f\", \"f\"]}\n",
    "\n",
    "dictL"
   ]
  },
  {
   "cell_type": "code",
   "execution_count": null,
   "metadata": {
    "collapsed": false
   },
   "outputs": [],
   "source": [
    "df = pnd.DataFrame(data = dictL)\n",
    "df"
   ]
  },
  {
   "cell_type": "markdown",
   "metadata": {},
   "source": [
    "<p>Чтобы указать последовательность столбцов, следует воспользоваться параметром <i>columns</i></p>"
   ]
  },
  {
   "cell_type": "code",
   "execution_count": null,
   "metadata": {
    "collapsed": false
   },
   "outputs": [],
   "source": [
    "df = pnd.DataFrame(data = dictL, columns = [\"Name\", \"City\", \"Year\", \"Grade\", \"Sex\"])\n",
    "df"
   ]
  },
  {
   "cell_type": "markdown",
   "metadata": {},
   "source": [
    "<p>Создание <span style=\"font-weight:bold; color:green\">DataFrame</span>'а с использованием <i>последовательностей</i></p>"
   ]
  },
  {
   "cell_type": "code",
   "execution_count": null,
   "metadata": {
    "collapsed": false
   },
   "outputs": [],
   "source": [
    "s1 = pnd.Series(data = ['Dima', 'Sveta', 'Alex', 'Ivan', 'Kate', 'Maria'], name = 'Name')\n",
    "s2 = pnd.Series(data = [\"Moscow\", \"Kiev\", \"Minsk\", \"St.Petersburg\", \"London\", \"New York\"], name = 'City')\n",
    "s3 = pnd.Series(data = [1988, 1999, 1954, 2005, 2001, 1997], name = 'Year')\n",
    "s4 = pnd.Series(data = [4, 4, np.NaN, 6, np.NaN, 7], name = 'Grade')\n",
    "s5 = pnd.Series(data = ['m', 'f', 'm', 'm', 'f', 'f'], name = 'Sex')\n",
    "\n",
    "df1 = pnd.DataFrame([s1,s2,s3,s4,s5])\n",
    "df1"
   ]
  },
  {
   "cell_type": "code",
   "execution_count": null,
   "metadata": {
    "collapsed": false
   },
   "outputs": [],
   "source": [
    "df1 = df1.T\n",
    "df1"
   ]
  },
  {
   "cell_type": "markdown",
   "metadata": {},
   "source": [
    "Чтобы изменить стандартную индексацию от 0, можно воспользоваться следующим выражением"
   ]
  },
  {
   "cell_type": "code",
   "execution_count": null,
   "metadata": {
    "collapsed": false
   },
   "outputs": [],
   "source": [
    "df.index = df.index + 1 #индексация будет от 1\n",
    "df"
   ]
  },
  {
   "cell_type": "markdown",
   "metadata": {},
   "source": [
    "<p>Доступ к индексам</p>"
   ]
  },
  {
   "cell_type": "code",
   "execution_count": null,
   "metadata": {
    "collapsed": false
   },
   "outputs": [],
   "source": [
    "df.index"
   ]
  },
  {
   "cell_type": "markdown",
   "metadata": {},
   "source": [
    "<p>Доступ к именам столбцов</p>"
   ]
  },
  {
   "cell_type": "code",
   "execution_count": null,
   "metadata": {
    "collapsed": false
   },
   "outputs": [],
   "source": [
    "df.columns"
   ]
  },
  {
   "cell_type": "markdown",
   "metadata": {},
   "source": [
    "<a name = \"2b\"></a>\n",
    "<div style=\"padding-top:10px;\">\n",
    "    <div style=\"display: inline-block; font-style:italic; font-weight:bold; font-size:12pt\">b. Обращение к элементам <span style=\"font-weight:bold; color:green\">DataFrame</span></div>\n",
    "    <div style=\"display: inline-block; float:right; width:20%; text-align:center; border:1px solid lightgrey\">\n",
    "        <div style=\"display: inline-block; text-align:center; width:50%; background-color:whitesmoke;\"><a href=\"#2a\">Назад</a></div><div style=\"display: inline-block; text-align:center; width:50%;\"><a href=\"#2c\">Далее</a></div>\n",
    "    </div>\n",
    "</div>"
   ]
  },
  {
   "cell_type": "markdown",
   "metadata": {},
   "source": [
    "<p>Обращение к элементу по <b>индексу</b> строки и имени столбца</p>"
   ]
  },
  {
   "cell_type": "code",
   "execution_count": null,
   "metadata": {
    "collapsed": false
   },
   "outputs": [],
   "source": [
    "df.loc[2,\"City\"]"
   ]
  },
  {
   "cell_type": "code",
   "execution_count": null,
   "metadata": {
    "collapsed": false
   },
   "outputs": [],
   "source": [
    "df.ix[2,\"City\"]"
   ]
  },
  {
   "cell_type": "markdown",
   "metadata": {},
   "source": [
    "<p>Обращение к элементу по <b>индексу</b> строки и номеру столбца</p>"
   ]
  },
  {
   "cell_type": "code",
   "execution_count": null,
   "metadata": {
    "collapsed": false
   },
   "outputs": [],
   "source": [
    "df.ix[2,1]"
   ]
  },
  {
   "cell_type": "markdown",
   "metadata": {},
   "source": [
    "<p>Обращение к элементу по <b>номеру</b> строки и номеру столбца</p>"
   ]
  },
  {
   "cell_type": "code",
   "execution_count": null,
   "metadata": {
    "collapsed": false
   },
   "outputs": [],
   "source": [
    "df.iloc[2,1]"
   ]
  },
  {
   "cell_type": "markdown",
   "metadata": {},
   "source": [
    "<a name = \"2c\"></a>\n",
    "<div style=\"padding-top:10px;\">\n",
    "    <div style=\"display: inline-block; font-style:italic; font-weight:bold; font-size:12pt\">c. Запись содержания <span style=\"font-weight:bold; color:green\">DataFrame</span> во внешний файл</div>\n",
    "    <div style=\"display: inline-block; float:right; width:20%; text-align:center; border:1px solid lightgrey\">\n",
    "        <div style=\"display: inline-block; text-align:center; width:50%; background-color:whitesmoke;\"><a href=\"#2b\">Назад</a></div><div style=\"display: inline-block; text-align:center; width:50%;\"><a href=\"#2d\">Далее</a></div>\n",
    "    </div>\n",
    "</div>"
   ]
  },
  {
   "cell_type": "markdown",
   "metadata": {},
   "source": [
    "<p>Pandas позволяет работать с различными форматами файлов, такими как csv, excel, xml, json и др. Более подробно <a href = \"http://pandas.pydata.org/pandas-docs/stable/io.html\">здесь</a></p>\n",
    "<p>В качестве примера далее рассматривается небольшой пример того, как значения <span style=\"font-weight:bold; color:green\">DataFrame</span>'а записать во внешний файл csv, а затем загрузить из него данные обратно в <span style=\"font-weight:bold; color:green\">DataFrame</span></p>"
   ]
  },
  {
   "cell_type": "markdown",
   "metadata": {},
   "source": [
    "<p>Запись данных в файл <i>csv</i></p>"
   ]
  },
  {
   "cell_type": "code",
   "execution_count": null,
   "metadata": {
    "collapsed": false
   },
   "outputs": [],
   "source": [
    "df.to_csv(\"testFile.csv\", index = False, header = True)"
   ]
  },
  {
   "cell_type": "markdown",
   "metadata": {},
   "source": [
    "<a name = \"2d\"></a>\n",
    "<div style=\"padding-top:10px;\">\n",
    "    <div style=\"display: inline-block; font-style:italic; font-weight:bold; font-size:12pt\">d. Загрузка внешних данных в <span style=\"font-weight:bold; color:green\">DataFrame</span></div>\n",
    "    <div style=\"display: inline-block; float:right; width:20%; text-align:center; border:1px solid lightgrey\">\n",
    "        <div style=\"display: inline-block; text-align:center; width:50%; background-color:whitesmoke;\"><a href=\"#2c\">Назад</a></div><div style=\"display: inline-block; text-align:center; width:50%;\"><a href=\"#3\">Далее</a></div>\n",
    "    </div>\n",
    "</div>"
   ]
  },
  {
   "cell_type": "code",
   "execution_count": null,
   "metadata": {
    "collapsed": false
   },
   "outputs": [],
   "source": [
    "df1 = pnd.read_csv(\"testFile.csv\")\n",
    "df1"
   ]
  },
  {
   "cell_type": "markdown",
   "metadata": {},
   "source": [
    "<a name = \"3\"></a>\n",
    "<div style=\"padding-top:10px;\">\n",
    "    <div style=\"display: inline-block; font-size:14pt; font-weight:bold\">3. Манипулирование <span style=\"font-weight:bold; color:green\">DataFrame</span>'ми</div>\n",
    "    <div style=\"display: inline-block; float:right; width:20%; text-align:center; background-color:whitesmoke; border:1px solid lightgrey\"><a href=\"#0\">К содержанию</a></div>\n",
    "</div>\n",
    "\n",
    "<div style=\"padding-bottom:10px; border-bottom:1px solid lightgrey\"></div>"
   ]
  },
  {
   "cell_type": "markdown",
   "metadata": {},
   "source": [
    "<div>\n",
    "<p><b>Рассматриваемые вопросы:</b></p>\n",
    "<p style=\"line-height:20pt\">\n",
    "a) работа со столбцами: <i>выбор данных по столбцам, добавление/удаление столбца</i><br> \n",
    "b) работа со строками: <i>выбор строк по индексу, использование условий, добавление/удаление строк</i><br> \n",
    "c) работа с ячейками: <i>обращение к ячейкам, изменение значений</i><br>\n",
    "d) использованием метода groupby для группировки<br>\n",
    "e) сортировка строк<br>\n",
    "f) формирование сложных индексов<br>\n",
    "g) объединение нескольких <span style=\"font-weight:bold; color:green\">DataFrame</span>'ов: <i>append</i>, <i>concat</i>, <i>merge</i>, <i>join</i><br>\n",
    "h) методы iterrows, map, apply, applymap\n",
    "</p>\n",
    "</div>"
   ]
  },
  {
   "cell_type": "markdown",
   "metadata": {},
   "source": [
    "<a name = \"3a\"></a>\n",
    "<div style=\"padding-top:10px;\">\n",
    "    <div style=\"display: inline-block; font-style:italic; font-weight:bold; font-size:12pt\">a. Столбцы</div>\n",
    "    <div style=\"display: inline-block; float:right; width:20%; text-align:center; border:1px solid lightgrey\">\n",
    "        <div style=\"display: inline-block; text-align:center; width:50%; background-color:whitesmoke;\"><a href=\"#3\">Назад</a></div><div style=\"display: inline-block; text-align:center; width:50%;\"><a href=\"#3b\">Далее</a></div>\n",
    "    </div>\n",
    "</div>"
   ]
  },
  {
   "cell_type": "markdown",
   "metadata": {},
   "source": [
    "<p>Исходный <span style=\"font-weight:bold; color:green\">DataFrame</span></p>"
   ]
  },
  {
   "cell_type": "code",
   "execution_count": null,
   "metadata": {
    "collapsed": false
   },
   "outputs": [],
   "source": [
    "df"
   ]
  },
  {
   "cell_type": "markdown",
   "metadata": {},
   "source": [
    "<p>Получение последовательности по имени столбца</p>"
   ]
  },
  {
   "cell_type": "code",
   "execution_count": null,
   "metadata": {
    "collapsed": false
   },
   "outputs": [],
   "source": [
    "s_name = df[\"Name\"]\n",
    "s_name"
   ]
  },
  {
   "cell_type": "code",
   "execution_count": null,
   "metadata": {
    "collapsed": false
   },
   "outputs": [],
   "source": [
    "s_name = df.Name\n",
    "s_name"
   ]
  },
  {
   "cell_type": "code",
   "execution_count": null,
   "metadata": {
    "collapsed": false
   },
   "outputs": [],
   "source": [
    "type(s_name)"
   ]
  },
  {
   "cell_type": "markdown",
   "metadata": {},
   "source": [
    "<p>Получение DataFrame по столбцу</p>"
   ]
  },
  {
   "cell_type": "code",
   "execution_count": null,
   "metadata": {
    "collapsed": false
   },
   "outputs": [],
   "source": [
    "df_name = df[[\"Name\"]] #Обращение по имени столбца\n",
    "df_name"
   ]
  },
  {
   "cell_type": "code",
   "execution_count": null,
   "metadata": {
    "collapsed": false
   },
   "outputs": [],
   "source": [
    "df_name = df[[0]] #Обращение по индексу столбца\n",
    "df_name"
   ]
  },
  {
   "cell_type": "code",
   "execution_count": null,
   "metadata": {
    "collapsed": false
   },
   "outputs": [],
   "source": [
    "type(df_name)"
   ]
  },
  {
   "cell_type": "markdown",
   "metadata": {},
   "source": [
    "<p>Использование нескольких столбцов для выбора данных</p>"
   ]
  },
  {
   "cell_type": "code",
   "execution_count": null,
   "metadata": {
    "collapsed": false
   },
   "outputs": [],
   "source": [
    "df_NC = df[[\"Name\", \"City\"]]\n",
    "df_NC"
   ]
  },
  {
   "cell_type": "code",
   "execution_count": null,
   "metadata": {
    "collapsed": false
   },
   "outputs": [],
   "source": [
    "df_NC = df[[0, 1]]\n",
    "df_NC"
   ]
  },
  {
   "cell_type": "markdown",
   "metadata": {},
   "source": [
    "Получение уникальных значений столбца"
   ]
  },
  {
   "cell_type": "code",
   "execution_count": null,
   "metadata": {
    "collapsed": false
   },
   "outputs": [],
   "source": [
    "df.Name.unique()"
   ]
  },
  {
   "cell_type": "code",
   "execution_count": null,
   "metadata": {
    "collapsed": false
   },
   "outputs": [],
   "source": [
    "df.Sex.unique()"
   ]
  },
  {
   "cell_type": "markdown",
   "metadata": {},
   "source": [
    "<p>Добавление/изменение столбца</p>"
   ]
  },
  {
   "cell_type": "code",
   "execution_count": null,
   "metadata": {
    "collapsed": false
   },
   "outputs": [],
   "source": [
    "df[\"NewColumn\"] = [4,5,7,3,2,6] #Добавление\n",
    "df"
   ]
  },
  {
   "cell_type": "code",
   "execution_count": null,
   "metadata": {
    "collapsed": false
   },
   "outputs": [],
   "source": [
    "df[\"Grade\"] = [1,1,1,1,1,1] #Изменение\n",
    "df"
   ]
  },
  {
   "cell_type": "code",
   "execution_count": null,
   "metadata": {
    "collapsed": false
   },
   "outputs": [],
   "source": [
    "df[\"Grade\"] = [4, 4, np.NaN, 6, np.NaN, 7]\n",
    "df"
   ]
  },
  {
   "cell_type": "code",
   "execution_count": null,
   "metadata": {
    "collapsed": false
   },
   "outputs": [],
   "source": [
    "if \"NewColumn2\" not in df.columns:\n",
    "    df.insert(loc=1, value=[10,40,50,30,70,49], column=\"NewColumn2\") #loc - позиция столбца\n",
    "df"
   ]
  },
  {
   "cell_type": "markdown",
   "metadata": {},
   "source": [
    "<p>Создание из исходного <i>df</i> нового <span style=\"font-weight:bold; color:green\">DataFrame</span>'а <i>df2</i> без столбца <i>NewColumn</i> </p>"
   ]
  },
  {
   "cell_type": "code",
   "execution_count": null,
   "metadata": {
    "collapsed": false
   },
   "outputs": [],
   "source": [
    "df2 = df.drop('NewColumn', axis=1, inplace=False) #axis = 1 - удаление столбца\n",
    "df2"
   ]
  },
  {
   "cell_type": "code",
   "execution_count": null,
   "metadata": {
    "collapsed": false
   },
   "outputs": [],
   "source": [
    "df"
   ]
  },
  {
   "cell_type": "markdown",
   "metadata": {},
   "source": [
    "<p>Удаление столбцов из исходного <span style=\"font-weight:bold; color:green\">DataFrame</span>'а</p>"
   ]
  },
  {
   "cell_type": "code",
   "execution_count": null,
   "metadata": {
    "collapsed": false
   },
   "outputs": [],
   "source": [
    "df.drop([\"NewColumn\", \"NewColumn2\"], axis=1, inplace=True) #Удаление нескольких столбцов\n",
    "df"
   ]
  },
  {
   "cell_type": "markdown",
   "metadata": {},
   "source": [
    "<a name = \"3b\"></a>\n",
    "<div style=\"padding-top:10px;\">\n",
    "    <div style=\"display: inline-block; font-style:italic; font-weight:bold; font-size:12pt\">b. Строки</div>\n",
    "    <div style=\"display: inline-block; float:right; width:20%; text-align:center; border:1px solid lightgrey\">\n",
    "        <div style=\"display: inline-block; text-align:center; width:50%; background-color:whitesmoke;\"><a href=\"#3a\">Назад</a></div><div style=\"display: inline-block; text-align:center; width:50%;\"><a href=\"#3c\">Далее</a></div>\n",
    "    </div>\n",
    "</div>"
   ]
  },
  {
   "cell_type": "markdown",
   "metadata": {},
   "source": [
    "<p>Исходный <span style=\"font-weight:bold; color:green\">DataFrame</span></p>"
   ]
  },
  {
   "cell_type": "code",
   "execution_count": null,
   "metadata": {
    "collapsed": false
   },
   "outputs": [],
   "source": [
    "df"
   ]
  },
  {
   "cell_type": "markdown",
   "metadata": {},
   "source": [
    "<p>Выбор строк по <b>индексу</b></p>"
   ]
  },
  {
   "cell_type": "code",
   "execution_count": null,
   "metadata": {
    "collapsed": false
   },
   "outputs": [],
   "source": [
    "df.loc[2] "
   ]
  },
  {
   "cell_type": "code",
   "execution_count": null,
   "metadata": {
    "collapsed": false
   },
   "outputs": [],
   "source": [
    "df.ix[2]"
   ]
  },
  {
   "cell_type": "markdown",
   "metadata": {},
   "source": [
    "<p>Выбор строк по <b>позиции</b> (номер строки начиная с 0)</p>"
   ]
  },
  {
   "cell_type": "code",
   "execution_count": null,
   "metadata": {
    "collapsed": false
   },
   "outputs": [],
   "source": [
    "df.iloc[2]"
   ]
  },
  {
   "cell_type": "code",
   "execution_count": null,
   "metadata": {
    "collapsed": false
   },
   "outputs": [],
   "source": [
    "df.irow(2)"
   ]
  },
  {
   "cell_type": "markdown",
   "metadata": {},
   "source": [
    "Использование диапазона позиций"
   ]
  },
  {
   "cell_type": "code",
   "execution_count": null,
   "metadata": {
    "collapsed": false
   },
   "outputs": [],
   "source": [
    "df[:3]"
   ]
  },
  {
   "cell_type": "code",
   "execution_count": null,
   "metadata": {
    "collapsed": false
   },
   "outputs": [],
   "source": [
    "df[1:4]"
   ]
  },
  {
   "cell_type": "markdown",
   "metadata": {},
   "source": [
    "<p>Использование условий</p>"
   ]
  },
  {
   "cell_type": "code",
   "execution_count": null,
   "metadata": {
    "collapsed": false
   },
   "outputs": [],
   "source": [
    "df[df.Name == \"Dima\"]"
   ]
  },
  {
   "cell_type": "code",
   "execution_count": null,
   "metadata": {
    "collapsed": false
   },
   "outputs": [],
   "source": [
    "df[df[\"Grade\"]>=5]"
   ]
  },
  {
   "cell_type": "code",
   "execution_count": null,
   "metadata": {
    "collapsed": false
   },
   "outputs": [],
   "source": [
    "df[df.Grade>=5]"
   ]
  },
  {
   "cell_type": "code",
   "execution_count": null,
   "metadata": {
    "collapsed": false
   },
   "outputs": [],
   "source": [
    "df[(df.Grade>=5) & (df.Sex==\"f\")] #Операция \"И\""
   ]
  },
  {
   "cell_type": "code",
   "execution_count": null,
   "metadata": {
    "collapsed": false
   },
   "outputs": [],
   "source": [
    "df[(df.Grade==4) | (df.Grade==6)] #Операция \"ИЛИ\""
   ]
  },
  {
   "cell_type": "code",
   "execution_count": null,
   "metadata": {
    "collapsed": false
   },
   "outputs": [],
   "source": [
    "df[np.isnan(df.Grade)]  #Строки с неопредленным значнием Grade"
   ]
  },
  {
   "cell_type": "markdown",
   "metadata": {},
   "source": [
    "<p>Применение метода <b>isin()</b> для вывода строк, в которых значение заданного столбца содержится в списке</p>"
   ]
  },
  {
   "cell_type": "code",
   "execution_count": null,
   "metadata": {
    "collapsed": false
   },
   "outputs": [],
   "source": [
    "l_cities = [\"Moscow\", \"Minsk\"]\n",
    "df2 = df[df.City.isin(l_cities)]\n",
    "df2"
   ]
  },
  {
   "cell_type": "markdown",
   "metadata": {},
   "source": [
    "<p>Добавление/изменение строки</p>"
   ]
  },
  {
   "cell_type": "code",
   "execution_count": null,
   "metadata": {
    "collapsed": false
   },
   "outputs": [],
   "source": [
    "df.ix[10] = [\"NewName\",\"NewCity\",2016,1,'f'] #Добавление строки с указанием индекса\n",
    "df"
   ]
  },
  {
   "cell_type": "code",
   "execution_count": null,
   "metadata": {
    "collapsed": false
   },
   "outputs": [],
   "source": [
    "df.ix[11] = [\"NewName2\",\"NewCity2\",2016,1,'f'] #Добавление строки с указанием индекса\n",
    "df"
   ]
  },
  {
   "cell_type": "code",
   "execution_count": null,
   "metadata": {
    "collapsed": false
   },
   "outputs": [],
   "source": [
    "df.loc[4] = [\"ChangedIvan\", \"St.Petersburg\", 2005, 6, \"m\"] #Изменение строки с указанием её номера\n",
    "df"
   ]
  },
  {
   "cell_type": "code",
   "execution_count": null,
   "metadata": {
    "collapsed": false
   },
   "outputs": [],
   "source": [
    "df.iloc[0] = [\"Changed\", \"Changed\", 2000, 10, \"m\"] #Изменение строки по номеру строки\n",
    "df"
   ]
  },
  {
   "cell_type": "markdown",
   "metadata": {},
   "source": [
    "Метод <b>fillna()</b> заполняет пустые ячейки значением аргумента "
   ]
  },
  {
   "cell_type": "code",
   "execution_count": null,
   "metadata": {
    "collapsed": false
   },
   "outputs": [],
   "source": [
    "df4 = df[\"Grade\"].fillna(3) #Возвращает новый DataFrame\n",
    "pnd.DataFrame(df4)"
   ]
  },
  {
   "cell_type": "markdown",
   "metadata": {},
   "source": [
    "<p>Удаление строки</p>"
   ]
  },
  {
   "cell_type": "code",
   "execution_count": null,
   "metadata": {
    "collapsed": false
   },
   "outputs": [],
   "source": [
    "df.drop(df.index[7], axis = 0, inplace = True) #Удаление по номеру строки, axis = 0 - строки, inplace = True - удаляет в df\n",
    "df"
   ]
  },
  {
   "cell_type": "code",
   "execution_count": null,
   "metadata": {
    "collapsed": false
   },
   "outputs": [],
   "source": [
    "df.drop(df.index[df.index==10], axis = 0, inplace = True) #Удаление по индексу строки\n",
    "df"
   ]
  },
  {
   "cell_type": "code",
   "execution_count": null,
   "metadata": {
    "collapsed": false
   },
   "outputs": [],
   "source": [
    "df2 = df.drop(df.index[df.index==1], axis = 0, inplace = False)\n",
    "df2"
   ]
  },
  {
   "cell_type": "code",
   "execution_count": null,
   "metadata": {
    "collapsed": false
   },
   "outputs": [],
   "source": [
    "df"
   ]
  },
  {
   "cell_type": "markdown",
   "metadata": {},
   "source": [
    "<p>Удаление всех строк, в которых есть неопределенное значение (NaN)</p>"
   ]
  },
  {
   "cell_type": "code",
   "execution_count": null,
   "metadata": {
    "collapsed": false
   },
   "outputs": [],
   "source": [
    "df.dropna() #Возвращает новый DataFrame"
   ]
  },
  {
   "cell_type": "markdown",
   "metadata": {},
   "source": [
    "<a name = \"3c\"></a>\n",
    "<div style=\"padding-top:10px;\">\n",
    "    <div style=\"display: inline-block; font-style:italic; font-weight:bold; font-size:12pt\">c. Значения ячеек</div>\n",
    "    <div style=\"display: inline-block; float:right; width:20%; text-align:center; border:1px solid lightgrey\">\n",
    "        <div style=\"display: inline-block; text-align:center; width:50%; background-color:whitesmoke;\"><a href=\"#3b\">Назад</a></div><div style=\"display: inline-block; text-align:center; width:50%;\"><a href=\"#3d\">Далее</a></div>\n",
    "    </div>\n",
    "</div>"
   ]
  },
  {
   "cell_type": "markdown",
   "metadata": {},
   "source": [
    "<p>Обращение по <b>индексу</b> строки</p>"
   ]
  },
  {
   "cell_type": "code",
   "execution_count": null,
   "metadata": {
    "collapsed": false
   },
   "outputs": [],
   "source": [
    "df.ix[2, 1]"
   ]
  },
  {
   "cell_type": "code",
   "execution_count": null,
   "metadata": {
    "collapsed": false
   },
   "outputs": [],
   "source": [
    "df.ix[2, \"City\"]"
   ]
  },
  {
   "cell_type": "code",
   "execution_count": null,
   "metadata": {
    "collapsed": false
   },
   "outputs": [],
   "source": [
    "df.loc[2, \"City\"]"
   ]
  },
  {
   "cell_type": "markdown",
   "metadata": {},
   "source": [
    "<p>Обращение по <b>позиции</b> (номеру) строки</p>"
   ]
  },
  {
   "cell_type": "code",
   "execution_count": null,
   "metadata": {
    "collapsed": false
   },
   "outputs": [],
   "source": [
    "df.iloc[2, 1]"
   ]
  },
  {
   "cell_type": "markdown",
   "metadata": {},
   "source": [
    "<p>Пример использования с циклом <i>for</i></p>"
   ]
  },
  {
   "cell_type": "code",
   "execution_count": null,
   "metadata": {
    "collapsed": false
   },
   "outputs": [],
   "source": [
    "#Изменение значений в столбце Grade на +10\n",
    "for i in range(len(df)):\n",
    "    df.iloc[i, 3] += 10\n",
    "    \n",
    "df"
   ]
  },
  {
   "cell_type": "markdown",
   "metadata": {},
   "source": [
    "<p>Срезы по строкам</p>"
   ]
  },
  {
   "cell_type": "code",
   "execution_count": null,
   "metadata": {
    "collapsed": false
   },
   "outputs": [],
   "source": [
    "df.loc[:,\"City\"]"
   ]
  },
  {
   "cell_type": "code",
   "execution_count": null,
   "metadata": {
    "collapsed": false
   },
   "outputs": [],
   "source": [
    "df.iloc[1:4, 1]"
   ]
  },
  {
   "cell_type": "markdown",
   "metadata": {},
   "source": [
    "<p>Срезы по строкам и столбца</p>"
   ]
  },
  {
   "cell_type": "code",
   "execution_count": null,
   "metadata": {
    "collapsed": false
   },
   "outputs": [],
   "source": [
    "df.loc[1:4,\"Name\":\"Year\"]"
   ]
  },
  {
   "cell_type": "code",
   "execution_count": null,
   "metadata": {
    "collapsed": false
   },
   "outputs": [],
   "source": [
    "df"
   ]
  },
  {
   "cell_type": "markdown",
   "metadata": {},
   "source": [
    "<p>Изменение значения ячейки. Если нет указанного индекса в <span style=\"font-weight:bold; color:green\">DataFrame</span>'е, то добавляется новая строка</p>"
   ]
  },
  {
   "cell_type": "code",
   "execution_count": null,
   "metadata": {
    "collapsed": false
   },
   "outputs": [],
   "source": [
    "df.set_value(2, \"Name\", \"NewName\")"
   ]
  },
  {
   "cell_type": "markdown",
   "metadata": {},
   "source": [
    "<a name = \"3d\"></a>\n",
    "<div style=\"padding-top:10px;\">\n",
    "    <div style=\"display: inline-block; font-style:italic; font-weight:bold; font-size:12pt\">d. Группировка</div>\n",
    "    <div style=\"display: inline-block; float:right; width:20%; text-align:center; border:1px solid lightgrey\">\n",
    "        <div style=\"display: inline-block; text-align:center; width:50%; background-color:whitesmoke;\"><a href=\"#3c\">Назад</a></div><div style=\"display: inline-block; text-align:center; width:50%;\"><a href=\"#3e\">Далее</a></div>\n",
    "    </div>\n",
    "</div>"
   ]
  },
  {
   "cell_type": "code",
   "execution_count": null,
   "metadata": {
    "collapsed": false
   },
   "outputs": [],
   "source": [
    "lSalary = [10, 40, 50, 30, 70, 49]\n",
    "lMarrStatus = [True, False, True, True, True, False]\n",
    "dfGroup = df.copy()\n",
    "dfGroup[\"Salary\"] = lSalary\n",
    "dfGroup[\"Marriage\"] = lMarrStatus\n",
    "dfGroup"
   ]
  },
  {
   "cell_type": "markdown",
   "metadata": {},
   "source": [
    "<p>Итеративный объект с группами по значению столбца</p>"
   ]
  },
  {
   "cell_type": "code",
   "execution_count": null,
   "metadata": {
    "collapsed": false
   },
   "outputs": [],
   "source": [
    "gb = dfGroup.groupby(\"Sex\")\n",
    "gb"
   ]
  },
  {
   "cell_type": "markdown",
   "metadata": {},
   "source": [
    "<p>Использование цикла <i>for</i> для доступа к группам</p>"
   ]
  },
  {
   "cell_type": "code",
   "execution_count": null,
   "metadata": {
    "collapsed": false
   },
   "outputs": [],
   "source": [
    "for i, grDF in gb:\n",
    "    print(i)\n",
    "    print(grDF)"
   ]
  },
  {
   "cell_type": "markdown",
   "metadata": {},
   "source": [
    "<p>Количество строк в каждой группе</p>"
   ]
  },
  {
   "cell_type": "code",
   "execution_count": null,
   "metadata": {
    "collapsed": false
   },
   "outputs": [],
   "source": [
    "gb.size()"
   ]
  },
  {
   "cell_type": "markdown",
   "metadata": {},
   "source": [
    "<p>Группировка по нескольким столбцам</p>"
   ]
  },
  {
   "cell_type": "code",
   "execution_count": null,
   "metadata": {
    "collapsed": false
   },
   "outputs": [],
   "source": [
    "gb2 = dfGroup.groupby([\"Sex\",\"Marriage\"])\n",
    "gb2"
   ]
  },
  {
   "cell_type": "code",
   "execution_count": null,
   "metadata": {
    "collapsed": false
   },
   "outputs": [],
   "source": [
    "for i, grDF in gb2:\n",
    "    print(i)\n",
    "    print(grDF)"
   ]
  },
  {
   "cell_type": "markdown",
   "metadata": {},
   "source": [
    "<p>Получение <span style=\"font-weight:bold; color:green\">DataFrame</span>'а группы по значению</p>"
   ]
  },
  {
   "cell_type": "code",
   "execution_count": null,
   "metadata": {
    "collapsed": false
   },
   "outputs": [],
   "source": [
    "df2 = gb.get_group(\"f\")\n",
    "df2"
   ]
  },
  {
   "cell_type": "code",
   "execution_count": null,
   "metadata": {
    "collapsed": false
   },
   "outputs": [],
   "source": [
    "gb2.get_group(('f', False))"
   ]
  },
  {
   "cell_type": "markdown",
   "metadata": {},
   "source": [
    "<p>Фильтр для групп</p>"
   ]
  },
  {
   "cell_type": "code",
   "execution_count": null,
   "metadata": {
    "collapsed": false
   },
   "outputs": [],
   "source": [
    "dfGroup.groupby(\"Sex\").filter(lambda group: group.Grade.sum() > 10) #Возвращает DataFrame с группами, в котрорых сумма Grade > 10"
   ]
  },
  {
   "cell_type": "markdown",
   "metadata": {},
   "source": [
    "<p>Агрегирование в группах</p>"
   ]
  },
  {
   "cell_type": "code",
   "execution_count": null,
   "metadata": {
    "collapsed": false
   },
   "outputs": [],
   "source": [
    "df2 = dfGroup[[\"Sex\", \"Grade\", \"Salary\"]]\n",
    "df2.groupby(\"Sex\").aggregate(lambda group: group.sum())"
   ]
  },
  {
   "cell_type": "markdown",
   "metadata": {},
   "source": [
    "<p>Трансформация выполняется для элементов отдельных столбцов каждой группу</p>"
   ]
  },
  {
   "cell_type": "code",
   "execution_count": null,
   "metadata": {
    "collapsed": false
   },
   "outputs": [],
   "source": [
    "v = np.array([1,2,3])\n",
    "v - v.mean()"
   ]
  },
  {
   "cell_type": "code",
   "execution_count": null,
   "metadata": {
    "collapsed": false
   },
   "outputs": [],
   "source": [
    "#Значение элемента минус среднее значение в столбце группы\n",
    "#[1,2,3]-2 = [-1,0,1]\n",
    "df2.groupby(\"Sex\").transform(lambda x: x - x.mean())"
   ]
  },
  {
   "cell_type": "markdown",
   "metadata": {},
   "source": [
    "<p>Группировка данных по диапазонам значений</p>"
   ]
  },
  {
   "cell_type": "code",
   "execution_count": null,
   "metadata": {
    "collapsed": false
   },
   "outputs": [],
   "source": [
    "cSal = pnd.cut(dfGroup.Salary, bins = [0, 30, 50, 80])\n",
    "cSal"
   ]
  },
  {
   "cell_type": "code",
   "execution_count": null,
   "metadata": {
    "collapsed": false
   },
   "outputs": [],
   "source": [
    "gr3 = dfGroup.groupby(cSal)\n",
    "gr3.get_group(\"(30, 50]\")"
   ]
  },
  {
   "cell_type": "code",
   "execution_count": null,
   "metadata": {
    "collapsed": false
   },
   "outputs": [],
   "source": [
    "cSal2 = pnd.cut(dfGroup.Salary, bins = [0, 30, 50, 80], labels=[\"bad\",\"medium\",\"good\"])\n",
    "cSal2"
   ]
  },
  {
   "cell_type": "code",
   "execution_count": null,
   "metadata": {
    "collapsed": false
   },
   "outputs": [],
   "source": [
    "gr3 = dfGroup.groupby(cSal2)\n",
    "gr3.get_group(\"medium\")"
   ]
  },
  {
   "cell_type": "code",
   "execution_count": null,
   "metadata": {
    "collapsed": false
   },
   "outputs": [],
   "source": [
    "cSal3 = pnd.cut(dfGroup.Salary, np.arange(0, 100, 10))\n",
    "cSal3"
   ]
  },
  {
   "cell_type": "code",
   "execution_count": null,
   "metadata": {
    "collapsed": false
   },
   "outputs": [],
   "source": [
    "cSal4 = pnd.cut(dfGroup.Salary, 3, labels=[\"bad\",\"medium\",\"good\"])\n",
    "cSal4"
   ]
  },
  {
   "cell_type": "markdown",
   "metadata": {},
   "source": [
    "<a name = \"3e\"></a>\n",
    "<div style=\"padding-top:10px;\">\n",
    "    <div style=\"display: inline-block; font-style:italic; font-weight:bold; font-size:12pt\">e. Сортировка</div>\n",
    "    <div style=\"display: inline-block; float:right; width:20%; text-align:center; border:1px solid lightgrey\">\n",
    "        <div style=\"display: inline-block; text-align:center; width:50%; background-color:whitesmoke;\"><a href=\"#3d\">Назад</a></div><div style=\"display: inline-block; text-align:center; width:50%;\"><a href=\"#3f\">Далее</a></div>\n",
    "    </div>\n",
    "</div>"
   ]
  },
  {
   "cell_type": "markdown",
   "metadata": {},
   "source": [
    "<p>Сортировка по одному столбцу</p>"
   ]
  },
  {
   "cell_type": "code",
   "execution_count": null,
   "metadata": {
    "collapsed": false
   },
   "outputs": [],
   "source": [
    "df.sort(\"Year\", ascending = 1) #по возрастанию"
   ]
  },
  {
   "cell_type": "code",
   "execution_count": null,
   "metadata": {
    "collapsed": false
   },
   "outputs": [],
   "source": [
    "df.sort(\"Year\", ascending = 0) #по убыванию"
   ]
  },
  {
   "cell_type": "markdown",
   "metadata": {},
   "source": [
    "<p>Сортировка по нескольким столбцам</p>"
   ]
  },
  {
   "cell_type": "code",
   "execution_count": null,
   "metadata": {
    "collapsed": false
   },
   "outputs": [],
   "source": [
    "df.sort([\"Sex\", \"Year\"], ascending = [1, 0])"
   ]
  },
  {
   "cell_type": "markdown",
   "metadata": {},
   "source": [
    "<a name = \"3f\"></a>\n",
    "<div style=\"padding-top:10px;\">\n",
    "    <div style=\"display: inline-block; font-style:italic; font-weight:bold; font-size:12pt\">f. Сложные индексы</div>\n",
    "    <div style=\"display: inline-block; float:right; width:20%; text-align:center; border:1px solid lightgrey\">\n",
    "        <div style=\"display: inline-block; text-align:center; width:50%; background-color:whitesmoke;\"><a href=\"#3e\">Назад</a></div><div style=\"display: inline-block; text-align:center; width:50%;\"><a href=\"#3g\">Далее</a></div>\n",
    "    </div>\n",
    "</div>"
   ]
  },
  {
   "cell_type": "code",
   "execution_count": null,
   "metadata": {
    "collapsed": false
   },
   "outputs": [],
   "source": [
    "mDataMI =  np.random.randint(low=0, high=101, size=(4,3))\n",
    "mDataMI"
   ]
  },
  {
   "cell_type": "code",
   "execution_count": null,
   "metadata": {
    "collapsed": false
   },
   "outputs": [],
   "source": [
    "index2 = [\"Working Days\", \"Weekend\", \"Working Days\", \"Weekend\"] #Второй индекс\n",
    "index1 = [\"Week1\", \"Week1\", \"Week2\", \"Week2\"] #Первый индекс\n",
    "\n",
    "dfMI = pnd.DataFrame(data = mDataMI, columns = [\"TV\", \"Smartphone\", \"Pendrive\"], index = [index1, index2])\n",
    "dfMI"
   ]
  },
  {
   "cell_type": "markdown",
   "metadata": {},
   "source": [
    "<p>Доступ к данный по индексам</p>"
   ]
  },
  {
   "cell_type": "code",
   "execution_count": null,
   "metadata": {
    "collapsed": false
   },
   "outputs": [],
   "source": [
    "dfMI.loc[\"Week1\"]"
   ]
  },
  {
   "cell_type": "code",
   "execution_count": null,
   "metadata": {
    "collapsed": false
   },
   "outputs": [],
   "source": [
    "dfMI.loc[(\"Week1\", \"Weekend\")]"
   ]
  },
  {
   "cell_type": "markdown",
   "metadata": {},
   "source": [
    "<p>Пример с суммой</p>"
   ]
  },
  {
   "cell_type": "code",
   "execution_count": null,
   "metadata": {
    "collapsed": false
   },
   "outputs": [],
   "source": [
    "dfMI.sum() #Сумма по столбцам для всех индексов"
   ]
  },
  {
   "cell_type": "code",
   "execution_count": null,
   "metadata": {
    "collapsed": false
   },
   "outputs": [],
   "source": [
    "dfMI.loc[\"Week1\"].sum() #Сумма по столбцам для Week1"
   ]
  },
  {
   "cell_type": "code",
   "execution_count": null,
   "metadata": {
    "collapsed": false
   },
   "outputs": [],
   "source": [
    "dfMI.loc[[(\"Week1\", \"Weekend\"),(\"Week2\", \"Weekend\")]].sum() #Сумма по столбцам за Weekend для Week1 и Week2"
   ]
  },
  {
   "cell_type": "markdown",
   "metadata": {},
   "source": [
    "<a name = \"3g\"></a>\n",
    "<div style=\"padding-top:10px;\">\n",
    "    <div style=\"display: inline-block; font-style:italic; font-weight:bold; font-size:12pt\">g. Объединение DataFrame'ов</div>\n",
    "    <div style=\"display: inline-block; float:right; width:20%; text-align:center; border:1px solid lightgrey\">\n",
    "        <div style=\"display: inline-block; text-align:center; width:50%; background-color:whitesmoke;\"><a href=\"#3f\">Назад</a></div><div style=\"display: inline-block; text-align:center; width:50%;\"><a href=\"#3h\">Далее</a></div>\n",
    "    </div>\n",
    "</div>"
   ]
  },
  {
   "cell_type": "markdown",
   "metadata": {},
   "source": [
    "<p>Слияние таблиц</p>"
   ]
  },
  {
   "cell_type": "markdown",
   "metadata": {},
   "source": [
    "<p><b>Метод <i>append()</i></b> - объединение строк таблиц</p>"
   ]
  },
  {
   "cell_type": "code",
   "execution_count": null,
   "metadata": {
    "collapsed": false
   },
   "outputs": [],
   "source": [
    "#Загрузка начальной версии df\n",
    "df = pnd.DataFrame(data = rows, columns = [\"Name\", \"City\", \"Year\", \"Grade\", \"Sex\"])\n",
    "df"
   ]
  },
  {
   "cell_type": "markdown",
   "metadata": {},
   "source": [
    "<p>Использование списка словарей</p>"
   ]
  },
  {
   "cell_type": "code",
   "execution_count": null,
   "metadata": {
    "collapsed": false
   },
   "outputs": [],
   "source": [
    "dictNew = [{\"Name\":\"Petr\", \"City\":\"Bryansk\", \"Year\":1990, \"Grade\":8}, {\"Name\":\"Ann\", \"City\":\"Tehran\"}]\n",
    "dictNew"
   ]
  },
  {
   "cell_type": "code",
   "execution_count": null,
   "metadata": {
    "collapsed": false
   },
   "outputs": [],
   "source": [
    "df2 = df.append(dictNew, ignore_index = True) #ignore_index = True - в новом DataFrame будет стандартная индексация от 0.\n",
    "df2"
   ]
  },
  {
   "cell_type": "markdown",
   "metadata": {},
   "source": [
    "<p>Последовательность</p>"
   ]
  },
  {
   "cell_type": "code",
   "execution_count": null,
   "metadata": {
    "collapsed": false
   },
   "outputs": [],
   "source": [
    "s1 = pnd.Series(data = [\"Petr\", \"Bryansk\", 1978, 5, \"m\"], index=[\"Name\",\"City\",\"Year\",\"Grade\",\"Sex\"])\n",
    "s2 = pnd.Series(data = [\"Ann\", \"Tehran\", 1997, 7, \"f\"], index=[\"Name\",\"City\",\"Year\",\"Grade\",\"Sex\"])"
   ]
  },
  {
   "cell_type": "code",
   "execution_count": null,
   "metadata": {
    "collapsed": false
   },
   "outputs": [],
   "source": [
    "df2 = df.append([s1,s2], ignore_index = True)\n",
    "df2"
   ]
  },
  {
   "cell_type": "markdown",
   "metadata": {},
   "source": [
    "<p><b>Функция <i>concat()</i></b></p>"
   ]
  },
  {
   "cell_type": "markdown",
   "metadata": {},
   "source": [
    "<p>Объединение строк</p>"
   ]
  },
  {
   "cell_type": "code",
   "execution_count": null,
   "metadata": {
    "collapsed": false
   },
   "outputs": [],
   "source": [
    "mNewRows = [[\"Petr\", \"Bryansk\", 1978, 5, \"m\"], [\"Ann\", \"Tehran\", 1997, 7, \"f\"]]\n",
    "mNewRows"
   ]
  },
  {
   "cell_type": "code",
   "execution_count": null,
   "metadata": {
    "collapsed": false
   },
   "outputs": [],
   "source": [
    "df2 = pnd.DataFrame(data=mNewRows, columns=[\"Name\",\"City\",\"Year\",\"Grade\",\"Sex\"])\n",
    "df2"
   ]
  },
  {
   "cell_type": "code",
   "execution_count": null,
   "metadata": {
    "collapsed": false
   },
   "outputs": [],
   "source": [
    "df3 = pnd.concat([df, df2], ignore_index = False) #ignore_index = False - в новом DataFrame индексы остаются прежними\n",
    "df3"
   ]
  },
  {
   "cell_type": "code",
   "execution_count": null,
   "metadata": {
    "collapsed": false
   },
   "outputs": [],
   "source": [
    "df3.ix[1]"
   ]
  },
  {
   "cell_type": "code",
   "execution_count": null,
   "metadata": {
    "collapsed": false
   },
   "outputs": [],
   "source": [
    "df3 = pnd.concat([df, df2], ignore_index = True) #ignore_index = True - в новом DataFrame будет стандартная индексация от 0.\n",
    "df3"
   ]
  },
  {
   "cell_type": "markdown",
   "metadata": {},
   "source": [
    "<p>Добавление ключа/индекса</p>"
   ]
  },
  {
   "cell_type": "code",
   "execution_count": null,
   "metadata": {
    "collapsed": false
   },
   "outputs": [],
   "source": [
    "df3 = pnd.concat([df, df2], keys = [\"Table1\", \"Table2\"])\n",
    "df3"
   ]
  },
  {
   "cell_type": "code",
   "execution_count": null,
   "metadata": {
    "collapsed": false
   },
   "outputs": [],
   "source": [
    "df3.loc[\"Table1\"]"
   ]
  },
  {
   "cell_type": "markdown",
   "metadata": {},
   "source": [
    "<p>Слияние таблиц по столбцам</p>"
   ]
  },
  {
   "cell_type": "code",
   "execution_count": null,
   "metadata": {
    "collapsed": false
   },
   "outputs": [],
   "source": [
    "df"
   ]
  },
  {
   "cell_type": "code",
   "execution_count": null,
   "metadata": {
    "collapsed": false
   },
   "outputs": [],
   "source": [
    "dictNew = {\"Marriage_status\":[True, False, True, False],\n",
    "        \"Salary\":[12, 40, 53, 25]}\n",
    "\n",
    "dfRight1 = pnd.DataFrame(data = dictNew)\n",
    "dfRight1"
   ]
  },
  {
   "cell_type": "markdown",
   "metadata": {},
   "source": [
    "<p>Внешнее соединение (<b>outer join</b>) таблиц по индексу</p>"
   ]
  },
  {
   "cell_type": "code",
   "execution_count": null,
   "metadata": {
    "collapsed": false
   },
   "outputs": [],
   "source": [
    "df3 = pnd.concat([df,dfRight1], axis = 1, join = \"outer\") #axis = 1 указывает на то, что будет объединение столбцов\n",
    "df3"
   ]
  },
  {
   "cell_type": "markdown",
   "metadata": {},
   "source": [
    "<p>Внутреннее соединение (<b>inner join</b>) таблиц по индексу</p>"
   ]
  },
  {
   "cell_type": "code",
   "execution_count": null,
   "metadata": {
    "collapsed": false
   },
   "outputs": [],
   "source": [
    "df3 = pnd.concat([df,dfRight1], axis = 1, join = \"inner\") #join = \"inner\" - объединяет столбцы по совпадающим индексам строк\n",
    "df3"
   ]
  },
  {
   "cell_type": "markdown",
   "metadata": {},
   "source": [
    "<p><b>Функция <i>merge()</i></b></p>"
   ]
  },
  {
   "cell_type": "markdown",
   "metadata": {},
   "source": [
    "<p>Внешнее соединение (<b>outer join</b>) таблиц по индексу</p>"
   ]
  },
  {
   "cell_type": "code",
   "execution_count": null,
   "metadata": {
    "collapsed": false
   },
   "outputs": [],
   "source": [
    "df3 = pnd.merge(df, dfRight1, left_index=True, right_index=True, how = \"outer\")\n",
    "df3"
   ]
  },
  {
   "cell_type": "markdown",
   "metadata": {},
   "source": [
    "<p>Внешнее соединение (<b>outer join</b>) таблиц по значениям в столбцах</p>"
   ]
  },
  {
   "cell_type": "code",
   "execution_count": null,
   "metadata": {
    "collapsed": false
   },
   "outputs": [],
   "source": [
    "dictNew2 = {\"Name\":[\"Sveta\", \"Sveta\", \"Alex\", \"Alex\", \"Kate\", \"Vlad\", \"Alice\"],\n",
    "            \"Device\":[\"TV\", \"Smartphone\", \"TV\", \"Pendrive\", \"TV\", \"TV\", \"PC\"]}\n",
    "\n",
    "dfRight2 = pnd.DataFrame(data = dictNew2)\n",
    "dfRight2"
   ]
  },
  {
   "cell_type": "code",
   "execution_count": null,
   "metadata": {
    "collapsed": false
   },
   "outputs": [],
   "source": [
    "df3 = pnd.merge(df, dfRight2, on = [\"Name\"], how = \"outer\")\n",
    "df3"
   ]
  },
  {
   "cell_type": "markdown",
   "metadata": {},
   "source": [
    "<p>Внешнее соединение (<b>outer join</b>) таблиц по значениям столбцов одной таблицы и индексам другой</p>"
   ]
  },
  {
   "cell_type": "code",
   "execution_count": null,
   "metadata": {
    "collapsed": false
   },
   "outputs": [],
   "source": [
    "dictNew3 = {\"key\":[2, 2, 3, 3, 4, 4, 10],\n",
    "            \"Device\":[\"TV\", \"Smartphone\", \"TV\", \"Pendrive\", \"TV\", \"TV\", \"PC\"]}\n",
    "\n",
    "dfLeft = pnd.DataFrame(data = dictNew3)\n",
    "dfLeft"
   ]
  },
  {
   "cell_type": "code",
   "execution_count": null,
   "metadata": {
    "collapsed": false
   },
   "outputs": [],
   "source": [
    "df3 = pnd.merge(dfLeft, df, left_on=\"key\", right_index=True, how=\"outer\")\n",
    "df3"
   ]
  },
  {
   "cell_type": "markdown",
   "metadata": {},
   "source": [
    "<p>Левое внешнее соединение (<b>left outer join</b>) таблиц по индексу</p>"
   ]
  },
  {
   "cell_type": "code",
   "execution_count": null,
   "metadata": {
    "collapsed": false
   },
   "outputs": [],
   "source": [
    "df3 = pnd.merge(df, dfRight1, left_index=True, right_index=True, how=\"left\")\n",
    "df3"
   ]
  },
  {
   "cell_type": "markdown",
   "metadata": {},
   "source": [
    "<p>Левое внешнее соединение (<b>left outer join</b>) таблиц по значениям в столбцах</p>"
   ]
  },
  {
   "cell_type": "code",
   "execution_count": null,
   "metadata": {
    "collapsed": false
   },
   "outputs": [],
   "source": [
    "df3 = pnd.merge(df, dfRight2, on=[\"Name\"], how=\"left\")\n",
    "df3"
   ]
  },
  {
   "cell_type": "markdown",
   "metadata": {},
   "source": [
    "<p>Внешнее левое соединение (<b>left outer join</b>) таблиц по значениям столбцов одной таблицы и индексам другой</p>"
   ]
  },
  {
   "cell_type": "code",
   "execution_count": null,
   "metadata": {
    "collapsed": false
   },
   "outputs": [],
   "source": [
    "df3 = pnd.merge(dfLeft, df, left_on=\"key\", right_index=True, how=\"left\")\n",
    "df3"
   ]
  },
  {
   "cell_type": "markdown",
   "metadata": {},
   "source": [
    "<p>Правое внешнее соединение (<b>right outer join</b>) таблиц по индексу</p>"
   ]
  },
  {
   "cell_type": "code",
   "execution_count": null,
   "metadata": {
    "collapsed": false
   },
   "outputs": [],
   "source": [
    "df3 = pnd.merge(df, dfRight1, left_index=True, right_index=True, how = \"right\")\n",
    "df3"
   ]
  },
  {
   "cell_type": "markdown",
   "metadata": {},
   "source": [
    "<p>Правое внешнее соединение (<b>right outer join</b>) таблиц по значениям в столбцах</p>"
   ]
  },
  {
   "cell_type": "code",
   "execution_count": null,
   "metadata": {
    "collapsed": false
   },
   "outputs": [],
   "source": [
    "df3 = pnd.merge(df, dfRight2, on = [\"Name\"], how = \"right\")\n",
    "df3"
   ]
  },
  {
   "cell_type": "code",
   "execution_count": null,
   "metadata": {
    "collapsed": false
   },
   "outputs": [],
   "source": [
    "df3 = pnd.merge(df, dfRight2, on = [\"Name\"], how = \"right\")\n",
    "df3"
   ]
  },
  {
   "cell_type": "markdown",
   "metadata": {},
   "source": [
    "<p>Внешнее правое соединение (<b>right outer join</b>) таблиц по значениям столбцов одной таблицы и индексам другой</p>"
   ]
  },
  {
   "cell_type": "code",
   "execution_count": null,
   "metadata": {
    "collapsed": false
   },
   "outputs": [],
   "source": [
    "df3 = pnd.merge(dfLeft, df, left_on=\"key\", right_index=True, how=\"right\")\n",
    "df3"
   ]
  },
  {
   "cell_type": "markdown",
   "metadata": {},
   "source": [
    "<p>Внутреннее соединение (<b>inner join</b>) таблиц по индексу</p>"
   ]
  },
  {
   "cell_type": "code",
   "execution_count": null,
   "metadata": {
    "collapsed": false
   },
   "outputs": [],
   "source": [
    "df3 = pnd.merge(df, dfRight1, left_index=True, right_index=True, how = \"inner\")\n",
    "df3"
   ]
  },
  {
   "cell_type": "markdown",
   "metadata": {},
   "source": [
    "<p>Внутреннее соединение (<b>inner join</b>) таблиц по значениям в столбцах</p>"
   ]
  },
  {
   "cell_type": "code",
   "execution_count": null,
   "metadata": {
    "collapsed": false
   },
   "outputs": [],
   "source": [
    "df3 = pnd.merge(df, dfRight2, on = [\"Name\"], how = \"inner\")\n",
    "df3"
   ]
  },
  {
   "cell_type": "markdown",
   "metadata": {},
   "source": [
    "<p>Внутреннее соединение (<b>inner join</b>) таблиц по значениям столбцов одной таблицы и индексам другой</p>"
   ]
  },
  {
   "cell_type": "code",
   "execution_count": null,
   "metadata": {
    "collapsed": false
   },
   "outputs": [],
   "source": [
    "df3 = pnd.merge(dfLeft, df, left_on=\"key\", right_index=True, how=\"inner\")\n",
    "df3"
   ]
  },
  {
   "cell_type": "markdown",
   "metadata": {},
   "source": [
    "<p><b>Метод <i>join()</i></b></p>"
   ]
  },
  {
   "cell_type": "markdown",
   "metadata": {},
   "source": [
    "<p>Внешнее соединение (<b>outer join</b>) таблиц по индексу</p>"
   ]
  },
  {
   "cell_type": "code",
   "execution_count": null,
   "metadata": {
    "collapsed": false
   },
   "outputs": [],
   "source": [
    "df"
   ]
  },
  {
   "cell_type": "code",
   "execution_count": null,
   "metadata": {
    "collapsed": false
   },
   "outputs": [],
   "source": [
    "df2"
   ]
  },
  {
   "cell_type": "code",
   "execution_count": null,
   "metadata": {
    "collapsed": false
   },
   "outputs": [],
   "source": [
    "df3 = df.join(dfRight1, how = \"outer\")\n",
    "df3"
   ]
  },
  {
   "cell_type": "markdown",
   "metadata": {},
   "source": [
    "<p>Внешнее соединение (<b>outer join</b>) таблиц по значениям столбцов одной таблицы и индексам другой</p>"
   ]
  },
  {
   "cell_type": "code",
   "execution_count": null,
   "metadata": {
    "collapsed": false
   },
   "outputs": [],
   "source": [
    "dictNew3 = {\"key\":[2, 2, 3, 3, 4, 4, 10],\n",
    "            \"Device\":[\"TV\", \"Smartphone\", \"TV\", \"Pendrive\", \"TV\", \"TV\", \"PC\"]}\n",
    "\n",
    "dfLeft = pnd.DataFrame(data = dictNew3)\n",
    "dfLeft"
   ]
  },
  {
   "cell_type": "code",
   "execution_count": null,
   "metadata": {
    "collapsed": false
   },
   "outputs": [],
   "source": [
    "df3 = dfLeft.join(df, on = \"key\", how = \"outer\")\n",
    "df3"
   ]
  },
  {
   "cell_type": "markdown",
   "metadata": {},
   "source": [
    "<p>Левое внешнее соединение (<b>left outer join</b>) таблиц по индексу</p>"
   ]
  },
  {
   "cell_type": "code",
   "execution_count": null,
   "metadata": {
    "collapsed": false
   },
   "outputs": [],
   "source": [
    "df3 = df.join(dfRight1, how = \"left\")\n",
    "df3"
   ]
  },
  {
   "cell_type": "markdown",
   "metadata": {},
   "source": [
    "<p>Внешнее левое соединение (<b>left outer join</b>) таблиц по значениям столбцов одной таблицы и индексам другой</p>"
   ]
  },
  {
   "cell_type": "code",
   "execution_count": null,
   "metadata": {
    "collapsed": false
   },
   "outputs": [],
   "source": [
    "df3 = dfLeft.join(df, on = \"key\", how = \"left\")\n",
    "df3"
   ]
  },
  {
   "cell_type": "markdown",
   "metadata": {},
   "source": [
    "<p>Правое внешнее соединение (<b>right outer join</b>) таблиц по индексу</p>"
   ]
  },
  {
   "cell_type": "code",
   "execution_count": null,
   "metadata": {
    "collapsed": false
   },
   "outputs": [],
   "source": [
    "df3 = df.join(dfRight1, how = \"right\")\n",
    "df3"
   ]
  },
  {
   "cell_type": "markdown",
   "metadata": {},
   "source": [
    "<p>Внешнее правое соединение (<b>right outer join</b>) таблиц по значениям столбцов одной таблицы и индексам другой</p>"
   ]
  },
  {
   "cell_type": "code",
   "execution_count": null,
   "metadata": {
    "collapsed": false
   },
   "outputs": [],
   "source": [
    "df3 = dfLeft.join(df, on = \"key\", how = \"right\")\n",
    "df3"
   ]
  },
  {
   "cell_type": "markdown",
   "metadata": {},
   "source": [
    "<p>Внутреннее соединение (<b>inner join</b>) таблиц по индексу</p>"
   ]
  },
  {
   "cell_type": "code",
   "execution_count": null,
   "metadata": {
    "collapsed": false
   },
   "outputs": [],
   "source": [
    "df3 = df.join(dfRight1, how = \"inner\")\n",
    "df3"
   ]
  },
  {
   "cell_type": "markdown",
   "metadata": {},
   "source": [
    "<p>Внутреннее соединение (<b>inner join</b>) таблиц по значениям столбцов одной таблицы и индексам другой</p>"
   ]
  },
  {
   "cell_type": "code",
   "execution_count": null,
   "metadata": {
    "collapsed": false
   },
   "outputs": [],
   "source": [
    "df3 = dfLeft.join(df, on = \"key\", how = \"inner\")\n",
    "df3"
   ]
  },
  {
   "cell_type": "markdown",
   "metadata": {},
   "source": [
    "<a name = \"3h\"></a>\n",
    "<div style=\"padding-top:10px;\">\n",
    "    <div style=\"display: inline-block; font-style:italic; font-weight:bold; font-size:12pt\">h. Методы <i>iterrows</i>, <i>map</i>, <i>apply</i>, <i>applymap</i></div>\n",
    "    <div style=\"display: inline-block; float:right; width:20%; text-align:center; border:1px solid lightgrey\">\n",
    "        <div style=\"display: inline-block; text-align:center; width:50%; background-color:whitesmoke;\"><a href=\"#3g\">Назад</a></div><div style=\"display: inline-block; text-align:center; width:50%;\"><a href=\"#4\">Далее</a></div>\n",
    "    </div>\n",
    "</div>"
   ]
  },
  {
   "cell_type": "markdown",
   "metadata": {},
   "source": [
    "<p>Использование итератора по строкам - метод <b>iterrows()</b></p>"
   ]
  },
  {
   "cell_type": "code",
   "execution_count": null,
   "metadata": {
    "collapsed": false
   },
   "outputs": [],
   "source": [
    "for i, row in df.iterrows():\n",
    "    print(i)\n",
    "    print(row)"
   ]
  },
  {
   "cell_type": "markdown",
   "metadata": {},
   "source": [
    "<p>Пример</p>"
   ]
  },
  {
   "cell_type": "code",
   "execution_count": null,
   "metadata": {
    "collapsed": false
   },
   "outputs": [],
   "source": [
    "df2 = pnd.DataFrame(columns = df.columns) #Новый DataFrame со схемой (столбцами) df\n",
    "for i, row in df.iterrows():\n",
    "    #Если City есть Moscow или Minsk, строка row добавляется в df2\n",
    "    if row.City in [\"Moscow\", \"Minsk\"]:\n",
    "        df2.loc[i] = row\n",
    "        \n",
    "df2"
   ]
  },
  {
   "cell_type": "markdown",
   "metadata": {},
   "source": [
    "<p>Выбор/фильтрация строк посредством методов <b>apply()</b> и <b>map()</b></p>"
   ]
  },
  {
   "cell_type": "code",
   "execution_count": null,
   "metadata": {
    "collapsed": false
   },
   "outputs": [],
   "source": [
    "df2 = df[df[\"City\"].apply(lambda c: c in [\"Moscow\", \"Minsk\"])]\n",
    "df2"
   ]
  },
  {
   "cell_type": "code",
   "execution_count": null,
   "metadata": {
    "collapsed": false
   },
   "outputs": [],
   "source": [
    "#Через функцию (без lambda)\n",
    "def func(city):\n",
    "    if city in [\"Moscow\", \"Minsk\"]:\n",
    "        return True\n",
    "    return False\n",
    "\n",
    "df2 = df[df.City.apply(func)]\n",
    "df2"
   ]
  },
  {
   "cell_type": "code",
   "execution_count": null,
   "metadata": {
    "collapsed": false
   },
   "outputs": [],
   "source": [
    "df2 = df[df[\"City\"].map(lambda c: c in [\"Moscow\", \"Minsk\"])]\n",
    "df2"
   ]
  },
  {
   "cell_type": "markdown",
   "metadata": {},
   "source": [
    "<p>Выбор строк без нулевых значений</p>"
   ]
  },
  {
   "cell_type": "code",
   "execution_count": null,
   "metadata": {
    "collapsed": false
   },
   "outputs": [],
   "source": [
    "df[df.Grade.notnull()]"
   ]
  },
  {
   "cell_type": "code",
   "execution_count": null,
   "metadata": {
    "collapsed": false
   },
   "outputs": [],
   "source": [
    "df[df.Grade.apply(lambda x: not np.isnan(x))]"
   ]
  },
  {
   "cell_type": "markdown",
   "metadata": {},
   "source": [
    "<p>Выбор строк с условием Year > 2000</p>"
   ]
  },
  {
   "cell_type": "code",
   "execution_count": null,
   "metadata": {
    "collapsed": false
   },
   "outputs": [],
   "source": [
    "df[df[\"Year\"] >= 2000]"
   ]
  },
  {
   "cell_type": "code",
   "execution_count": null,
   "metadata": {
    "collapsed": false
   },
   "outputs": [],
   "source": [
    "df[df[\"Year\"].apply(lambda year: year >= 2000)]"
   ]
  },
  {
   "cell_type": "markdown",
   "metadata": {},
   "source": [
    "<p>Применение метода <b>apply()</b> для вычислений</p>"
   ]
  },
  {
   "cell_type": "code",
   "execution_count": null,
   "metadata": {
    "collapsed": false
   },
   "outputs": [],
   "source": [
    "mDataA =  np.random.randint(low=0, high=101, size=(3,7))\n",
    "mDataA"
   ]
  },
  {
   "cell_type": "code",
   "execution_count": null,
   "metadata": {
    "collapsed": false
   },
   "outputs": [],
   "source": [
    "dfA = pnd.DataFrame(data = mDataA, columns = [\"Mon\", \"Tue\", \"Wed\", \"Thu\", \"Fri\", \"Sat\", \"Sun\"], index = [\"TV\", \"Smartphone\", \"Pendrive\"])\n",
    "dfA"
   ]
  },
  {
   "cell_type": "code",
   "execution_count": null,
   "metadata": {
    "collapsed": false
   },
   "outputs": [],
   "source": [
    "s_clmn_sum = dfA.apply(lambda clmn: clmn.sum(), axis = 0) #axis = 0 - выбор по столбцам\n",
    "s_clmn_sum"
   ]
  },
  {
   "cell_type": "code",
   "execution_count": null,
   "metadata": {
    "collapsed": false
   },
   "outputs": [],
   "source": [
    "type(s_clmn_sum)"
   ]
  },
  {
   "cell_type": "code",
   "execution_count": null,
   "metadata": {
    "collapsed": false
   },
   "outputs": [],
   "source": [
    "s_clmn_sum.name = \"TotalByDay\"\n",
    "pnd.DataFrame(s_clmn_sum)"
   ]
  },
  {
   "cell_type": "code",
   "execution_count": null,
   "metadata": {
    "collapsed": false
   },
   "outputs": [],
   "source": [
    "s_row_sum = dfA.apply(lambda row: row.sum(), axis = 1) #axis = 1 - выбор по строкам\n",
    "s_row_sum"
   ]
  },
  {
   "cell_type": "code",
   "execution_count": null,
   "metadata": {
    "collapsed": false
   },
   "outputs": [],
   "source": [
    "s_row_sum.name = \"TotalByDevice\"\n",
    "pnd.DataFrame(s_row_sum)"
   ]
  },
  {
   "cell_type": "code",
   "execution_count": null,
   "metadata": {
    "collapsed": false
   },
   "outputs": [],
   "source": [
    "dfA[\"Working_Days\"] = dfA.apply(lambda x: x[0:5].sum(), axis=1)\n",
    "dfA"
   ]
  },
  {
   "cell_type": "code",
   "execution_count": null,
   "metadata": {
    "collapsed": false
   },
   "outputs": [],
   "source": [
    "dfA[\"Weekend\"] = dfA.apply(lambda x: x[5:8].sum(), axis=1)\n",
    "dfA"
   ]
  },
  {
   "cell_type": "code",
   "execution_count": null,
   "metadata": {
    "collapsed": true
   },
   "outputs": [],
   "source": [
    "#Удаление столбцов Working_Days и Weekend\n",
    "dfA.drop([\"Working_Days\",\"Weekend\"], axis=1, inplace=True)"
   ]
  },
  {
   "cell_type": "markdown",
   "metadata": {},
   "source": [
    "<p>Нормализация значений по строке через <i>apply</i></p>"
   ]
  },
  {
   "cell_type": "code",
   "execution_count": null,
   "metadata": {
    "collapsed": false
   },
   "outputs": [],
   "source": [
    "dfA.apply(lambda x: x/x.sum(), axis=1)"
   ]
  },
  {
   "cell_type": "markdown",
   "metadata": {},
   "source": [
    "<p>Нормализация через дополнительную функцию</p>"
   ]
  },
  {
   "cell_type": "code",
   "execution_count": null,
   "metadata": {
    "collapsed": false
   },
   "outputs": [],
   "source": [
    "def norm(row):\n",
    "    s = row.sum()\n",
    "    return [el/s for el in row] #или return row/s\n",
    "\n",
    "dfA.apply(norm, axis=1)"
   ]
  },
  {
   "cell_type": "markdown",
   "metadata": {},
   "source": [
    "<p>Применение метода <b>applymap()</b></p>"
   ]
  },
  {
   "cell_type": "code",
   "execution_count": null,
   "metadata": {
    "collapsed": false
   },
   "outputs": [],
   "source": [
    "dfA"
   ]
  },
  {
   "cell_type": "code",
   "execution_count": null,
   "metadata": {
    "collapsed": false
   },
   "outputs": [],
   "source": [
    "df4 = dfA.applymap(lambda cell: cell/100)\n",
    "df4"
   ]
  },
  {
   "cell_type": "markdown",
   "metadata": {},
   "source": [
    "<p>Изменение значений с использованием цикла</p>"
   ]
  },
  {
   "cell_type": "code",
   "execution_count": null,
   "metadata": {
    "collapsed": false
   },
   "outputs": [],
   "source": [
    "df2 = pnd.DataFrame()\n",
    "for clmn in dfA.columns:\n",
    "    df2[clmn] = dfA.ix[:,clmn]/100\n",
    "\n",
    "df2"
   ]
  },
  {
   "cell_type": "markdown",
   "metadata": {},
   "source": [
    "<a name=\"4\"></a>\n",
    "<div style=\"display:table; width:100%; padding-top:10px; padding-bottom:10px; border-bottom:1px solid lightgrey\">\n",
    "    <div style=\"display:table-row\">\n",
    "        <div style=\"display:table-cell; width:80%; font-size:14pt; font-weight:bold\">4. Математическая поддержка</div>\n",
    "    \t<div style=\"display:table-cell; width:20%; text-align:center; background-color:whitesmoke; border:1px solid lightgrey\"><a href=\"#0\">К содержанию</a></div>\n",
    "    </div>\n",
    "</div>"
   ]
  },
  {
   "cell_type": "markdown",
   "metadata": {},
   "source": [
    "<div>\n",
    "<p><b>Рассматриваемые вопросы:</b></p>\n",
    "<p style=\"line-height:20pt\">\n",
    "a) операции со столбцами: <i>с использованием матрицы, списков, словаря, последовательностей</i><br> \n",
    "b) специалные методы: <i>count</i>, <i>min</i>, <i>max</i>, <i>sum</i>, <i>mean</i>, <i>var</i>, <i>std</i>, <i>describe</i>, <i>corr</i>, <i>cov</i><br> \n",
    "</div>"
   ]
  },
  {
   "cell_type": "markdown",
   "metadata": {},
   "source": [
    "<a name = \"4a\"></a>\n",
    "<div style=\"padding-top:10px;\">\n",
    "    <div style=\"display: inline-block; font-style:italic; font-weight:bold; font-size:12pt\">a. Операции со столбцами</div>\n",
    "    <div style=\"display: inline-block; float:right; width:20%; text-align:center; border:1px solid lightgrey\">\n",
    "        <div style=\"display: inline-block; text-align:center; width:50%; background-color:whitesmoke;\"><a href=\"#4\">Назад</a></div><div style=\"display: inline-block; text-align:center; width:50%;\"><a href=\"#4b\">Далее</a></div>\n",
    "    </div>\n",
    "</div>"
   ]
  },
  {
   "cell_type": "code",
   "execution_count": null,
   "metadata": {
    "collapsed": false
   },
   "outputs": [],
   "source": [
    "dfA"
   ]
  },
  {
   "cell_type": "code",
   "execution_count": null,
   "metadata": {
    "collapsed": false
   },
   "outputs": [],
   "source": [
    "s_nomValues = dfA.Mon / 100\n",
    "s_nomValues"
   ]
  },
  {
   "cell_type": "code",
   "execution_count": null,
   "metadata": {
    "collapsed": false
   },
   "outputs": [],
   "source": [
    "dfA.Mon = dfA.Mon + 10\n",
    "dfA"
   ]
  },
  {
   "cell_type": "code",
   "execution_count": null,
   "metadata": {
    "collapsed": false
   },
   "outputs": [],
   "source": [
    "s_sumMonTue = dfA[\"Mon\"] + dfA[\"Tue\"]\n",
    "s_sumMonTue"
   ]
  },
  {
   "cell_type": "code",
   "execution_count": null,
   "metadata": {
    "collapsed": false
   },
   "outputs": [],
   "source": [
    "s_multMonTue = dfA[\"Mon\"] * dfA[\"Tue\"]\n",
    "s_multMonTue"
   ]
  },
  {
   "cell_type": "markdown",
   "metadata": {},
   "source": [
    "<p>Пример вычисления суммы по всем столбцам с циклом <i>for</i></p>"
   ]
  },
  {
   "cell_type": "code",
   "execution_count": null,
   "metadata": {
    "collapsed": false
   },
   "outputs": [],
   "source": [
    "dfA.columns"
   ]
  },
  {
   "cell_type": "code",
   "execution_count": null,
   "metadata": {
    "collapsed": false
   },
   "outputs": [],
   "source": [
    "dfA[\"Total\"] = dfA[dfA.columns[0]]\n",
    "for i in range(1, len(dfA.columns)-1):\n",
    "    dfA[\"Total\"] += dfA[dfA.columns[i]]\n",
    "\n",
    "dfA"
   ]
  },
  {
   "cell_type": "code",
   "execution_count": null,
   "metadata": {
    "collapsed": false
   },
   "outputs": [],
   "source": [
    "#Удаление столбца Total\n",
    "dfA.drop([\"Total\"], axis=1, inplace=True)\n",
    "dfA"
   ]
  },
  {
   "cell_type": "markdown",
   "metadata": {},
   "source": [
    "<p>Пример вычисления суммы по всем столбцам с использованием <i>apply</i></p>"
   ]
  },
  {
   "cell_type": "code",
   "execution_count": null,
   "metadata": {
    "collapsed": false
   },
   "outputs": [],
   "source": [
    "dfA[\"Total\"] = dfA.apply(lambda row: row.sum(), axis = 1)\n",
    "dfA"
   ]
  },
  {
   "cell_type": "code",
   "execution_count": null,
   "metadata": {
    "collapsed": false
   },
   "outputs": [],
   "source": [
    "dfA.drop([\"Total\"], axis=1, inplace=True)"
   ]
  },
  {
   "cell_type": "markdown",
   "metadata": {},
   "source": [
    "<p>Пример вычисления суммы по всем столбцам с использованием <i>sum</i></p>"
   ]
  },
  {
   "cell_type": "code",
   "execution_count": null,
   "metadata": {
    "collapsed": false
   },
   "outputs": [],
   "source": [
    "dfA[\"Total\"] = dfA.sum(axis=1)\n",
    "dfA"
   ]
  },
  {
   "cell_type": "code",
   "execution_count": null,
   "metadata": {
    "collapsed": true
   },
   "outputs": [],
   "source": [
    "dfA.drop([\"Total\"], axis=1, inplace=True)"
   ]
  },
  {
   "cell_type": "markdown",
   "metadata": {},
   "source": [
    "<a name = \"4b\"></a>\n",
    "<div style=\"padding-top:10px;\">\n",
    "    <div style=\"display: inline-block; font-style:italic; font-weight:bold; font-size:12pt\">b. Специальные методы</div>\n",
    "    <div style=\"display: inline-block; float:right; width:20%; text-align:center; border:1px solid lightgrey\">\n",
    "        <div style=\"display: inline-block; text-align:center; width:50%; background-color:whitesmoke;\"><a href=\"#4a\">Назад</a></div><div style=\"display: inline-block; text-align:center; width:50%;\"><a href=\"#5\">Далее</a></div>\n",
    "    </div>\n",
    "</div>"
   ]
  },
  {
   "cell_type": "code",
   "execution_count": null,
   "metadata": {
    "collapsed": false
   },
   "outputs": [],
   "source": [
    "dfA.count(axis=0)"
   ]
  },
  {
   "cell_type": "code",
   "execution_count": null,
   "metadata": {
    "collapsed": false
   },
   "outputs": [],
   "source": [
    "dfA.count(axis=1)"
   ]
  },
  {
   "cell_type": "code",
   "execution_count": null,
   "metadata": {
    "collapsed": false
   },
   "outputs": [],
   "source": [
    "dfA.min(axis=0)"
   ]
  },
  {
   "cell_type": "code",
   "execution_count": null,
   "metadata": {
    "collapsed": false
   },
   "outputs": [],
   "source": [
    "dfA.min(axis=1)"
   ]
  },
  {
   "cell_type": "code",
   "execution_count": null,
   "metadata": {
    "collapsed": false
   },
   "outputs": [],
   "source": [
    "dfA[\"Mon\"].min()"
   ]
  },
  {
   "cell_type": "code",
   "execution_count": null,
   "metadata": {
    "collapsed": false
   },
   "outputs": [],
   "source": [
    "dfA[\"Mon\"].argmin()"
   ]
  },
  {
   "cell_type": "code",
   "execution_count": null,
   "metadata": {
    "collapsed": false
   },
   "outputs": [],
   "source": [
    "dfA.max(axis=0)"
   ]
  },
  {
   "cell_type": "code",
   "execution_count": null,
   "metadata": {
    "collapsed": false
   },
   "outputs": [],
   "source": [
    "dfA.max(axis=1)"
   ]
  },
  {
   "cell_type": "code",
   "execution_count": null,
   "metadata": {
    "collapsed": false
   },
   "outputs": [],
   "source": [
    "dfA[\"Mon\"].argmax()"
   ]
  },
  {
   "cell_type": "code",
   "execution_count": null,
   "metadata": {
    "collapsed": false
   },
   "outputs": [],
   "source": [
    "dfA.sum(axis=0)"
   ]
  },
  {
   "cell_type": "code",
   "execution_count": null,
   "metadata": {
    "collapsed": false
   },
   "outputs": [],
   "source": [
    "dfA.sum(axis=1)"
   ]
  },
  {
   "cell_type": "code",
   "execution_count": null,
   "metadata": {
    "collapsed": false
   },
   "outputs": [],
   "source": [
    "dfA[\"Mon\"].sum()"
   ]
  },
  {
   "cell_type": "code",
   "execution_count": null,
   "metadata": {
    "collapsed": false
   },
   "outputs": [],
   "source": [
    "dfA.mean(axis=0)"
   ]
  },
  {
   "cell_type": "code",
   "execution_count": null,
   "metadata": {
    "collapsed": false
   },
   "outputs": [],
   "source": [
    "dfA.mean(axis=1)"
   ]
  },
  {
   "cell_type": "code",
   "execution_count": null,
   "metadata": {
    "collapsed": false
   },
   "outputs": [],
   "source": [
    "dfA[\"Mon\"].mean()"
   ]
  },
  {
   "cell_type": "code",
   "execution_count": null,
   "metadata": {
    "collapsed": false
   },
   "outputs": [],
   "source": [
    "dfA.var(axis=0)"
   ]
  },
  {
   "cell_type": "code",
   "execution_count": null,
   "metadata": {
    "collapsed": false
   },
   "outputs": [],
   "source": [
    "dfA.var(axis=1)"
   ]
  },
  {
   "cell_type": "code",
   "execution_count": null,
   "metadata": {
    "collapsed": false
   },
   "outputs": [],
   "source": [
    "dfA.std(axis=1)"
   ]
  },
  {
   "cell_type": "code",
   "execution_count": null,
   "metadata": {
    "collapsed": false
   },
   "outputs": [],
   "source": [
    "dfA[\"Mon\"].std()"
   ]
  },
  {
   "cell_type": "code",
   "execution_count": null,
   "metadata": {
    "collapsed": false
   },
   "outputs": [],
   "source": [
    "dfA.describe()"
   ]
  },
  {
   "cell_type": "code",
   "execution_count": null,
   "metadata": {
    "collapsed": false
   },
   "outputs": [],
   "source": [
    "dfA[\"Mon\"].describe()"
   ]
  },
  {
   "cell_type": "code",
   "execution_count": null,
   "metadata": {
    "collapsed": false
   },
   "outputs": [],
   "source": [
    "dfA.corr()"
   ]
  },
  {
   "cell_type": "code",
   "execution_count": null,
   "metadata": {
    "collapsed": false
   },
   "outputs": [],
   "source": [
    "dfA.cov()"
   ]
  },
  {
   "cell_type": "markdown",
   "metadata": {},
   "source": [
    "<a name=\"5\"></a>\n",
    "<div style=\"display:table; width:100%; padding-top:10px; padding-bottom:10px; border-bottom:1px solid lightgrey\">\n",
    "    <div style=\"display:table-row\">\n",
    "        <div style=\"display:table-cell; width:80%; font-size:14pt; font-weight:bold\">5. Визуализация данных</div>\n",
    "    \t<div style=\"display:table-cell; width:20%; text-align:center; background-color:whitesmoke; border:1px solid lightgrey\"><a href=\"#0\">К содержанию</a></div>\n",
    "    </div>\n",
    "</div>"
   ]
  },
  {
   "cell_type": "markdown",
   "metadata": {},
   "source": [
    "<div>\n",
    "<p><b>Рассматриваемые вопросы:</b></p>\n",
    "<p style=\"line-height:20pt\">\n",
    "a) построение графиков (plot)</i><br> \n",
    "b) построение гистограмм<br> \n",
    "</p>\n",
    "</div>"
   ]
  },
  {
   "cell_type": "markdown",
   "metadata": {},
   "source": [
    "<a name = \"5a\"></a>\n",
    "<div style=\"padding-top:10px;\">\n",
    "    <div style=\"display: inline-block; font-style:italic; font-weight:bold; font-size:12pt\">a. График (plot)</div>\n",
    "    <div style=\"display: inline-block; float:right; width:20%; text-align:center; border:1px solid lightgrey\">\n",
    "        <div style=\"display: inline-block; text-align:center; width:50%; background-color:whitesmoke;\"><a href=\"#5\">Назад</a></div><div style=\"display: inline-block; text-align:center; width:50%;\"><a href=\"#5b\">Далее</a></div>\n",
    "    </div>\n",
    "</div>"
   ]
  },
  {
   "cell_type": "code",
   "execution_count": null,
   "metadata": {
    "collapsed": false,
    "scrolled": true
   },
   "outputs": [],
   "source": [
    "%matplotlib inline\n",
    "dfA.T.plot()"
   ]
  },
  {
   "cell_type": "code",
   "execution_count": null,
   "metadata": {
    "collapsed": false
   },
   "outputs": [],
   "source": [
    "pl = dfA.loc[\"TV\",:].plot(title=\"TV\")\n",
    "pl.set_xlabel(\"Day of the Week\")\n",
    "pl.set_ylabel(\"Count\")"
   ]
  },
  {
   "cell_type": "markdown",
   "metadata": {},
   "source": [
    "<a name = \"5b\"></a>\n",
    "<div style=\"padding-top:10px;\">\n",
    "    <div style=\"display: inline-block; font-style:italic; font-weight:bold; font-size:12pt\">b. Гистограмма</div>\n",
    "    <div style=\"display: inline-block; float:right; width:20%; text-align:center; border:1px solid lightgrey\">\n",
    "        <div style=\"display: inline-block; text-align:center; width:50%; background-color:whitesmoke;\"><a href=\"#5a\">Назад</a></div><div style=\"display: inline-block; text-align:center; width:50%;\"><a href=\"#6\">Далее</a></div>\n",
    "    </div>\n",
    "</div>"
   ]
  },
  {
   "cell_type": "code",
   "execution_count": null,
   "metadata": {
    "collapsed": false
   },
   "outputs": [],
   "source": [
    "dfA.hist(bins = 4)"
   ]
  },
  {
   "cell_type": "code",
   "execution_count": null,
   "metadata": {
    "collapsed": false
   },
   "outputs": [],
   "source": [
    "dfA.T.hist(bins = 4)"
   ]
  },
  {
   "cell_type": "markdown",
   "metadata": {},
   "source": [
    "<a name=\"6\"></a>\n",
    "<div style=\"display:table; width:100%; padding-top:10px; padding-bottom:10px; border-bottom:1px solid lightgrey\">\n",
    "    <div style=\"display:table-row\">\n",
    "        <div style=\"display:table-cell; width:80%; font-size:14pt; font-weight:bold\">6. Источники</div>\n",
    "    \t<div style=\"display:table-cell; width:20%; text-align:center; background-color:whitesmoke; border:1px solid lightgrey\"><a href=\"#0\">К содержанию</a></div>\n",
    "    </div>\n",
    "</div>"
   ]
  },
  {
   "cell_type": "markdown",
   "metadata": {},
   "source": [
    "<div><p>Документация</p>\n",
    "<a href=\"http://pandas.pydata.org/pandas-docs/stable/genindex.html\">Pandas 0.17.1 documentation. Index</a><br>\n",
    "\n",
    "<p>Разбор функциональных возможностей</p>\n",
    "<a href=\"http://pandas.pydata.org/pandas-docs/stable/dsintro.html\">Intro to Data Structures</a><br>\n",
    "<a href=\"http://pandas.pydata.org/pandas-docs/stable/indexing.html\">Indexing and Selecting Data</a><br>\n",
    "<a href=\"http://pandas.pydata.org/pandas-docs/stable/io.html\">IO Tools (Text, CSV, HDF5, ...)</a><br>\n",
    "<a href=\"http://pandas.pydata.org/pandas-docs/stable/groupby.html\">Group By: split-apply-combine</a><br>\n",
    "<a href=\"http://pandas.pydata.org/pandas-docs/stable/advanced.html\">MultiIndex / Advanced Indexing</a><br>\n",
    "<a href=\"http://pandas.pydata.org/pandas-docs/stable/merging.html\">Merge, join, and concatenate</a><br>\n",
    "<a href=\"http://pandas.pydata.org/pandas-docs/stable/merging.html\">Essential Basic Functionality</a><br>\n",
    "<a href=\"https://s3.amazonaws.com/quandl-static-content/Documents/Quandl+-+Pandas,+SciPy,+NumPy+Cheat+Sheet.pdf\">NumPy / SciPy / Pandas Cheat Sheet</a><br>\n",
    "<a href=\"http://www.swegler.com/becky/blog/2014/08/06/useful-pandas-snippets/\">Useful Pandas Snippets</a><br>\n",
    "<a href=\"http://chrisalbon.com/python/pandas_apply_operations_to_dataframes.html\">Applying Operations Over pandas Dataframes</a><br>\n",
    "<a href=\"http://nbviewer.jupyter.org/urls/bitbucket.org/hrojas/learn-pandas/raw/master/lessons/01%20-%20Lesson.ipynb\">Pandas. Lesson 1</a><br>\n",
    "<a href=\"http://chrisalbon.com/python/pandas_dropping_column_and_rows.html\">Dropping Rows And Columns In pandas Dataframe</a><br>\n",
    "<a href=\"http://chrisalbon.com/python/pandas_dataframe_descriptive_stats.html\">Descriptive Statistics For pandas Dataframe</a><br>\n",
    "\n",
    "<p>Примеры использования</p>\n",
    "<a href=\"http://synesthesiam.com/posts/an-introduction-to-pandas.html\">An Introduction to Pandas (weather analysis)</a><br>\n",
    "<a href=\"http://pbpython.com/excel-pandas-comp.html\">Common Excel Tasks Demonstrated in Pandas</a><br>\n",
    "<a href=\"http://wavedatalab.github.io/datawithpython/aggregate.html\">Using Pandas for Analyzing Data - Grouping and Aggregating</a><br>\n",
    "<a href=\"http://dataconomy.com/14-best-python-pandas-features/\">14 BEST PYTHON PANDAS FEATURES</a><br>\n",
    "<a href=\"http://www.randalolson.com/2012/08/06/statistical-analysis-made-easy-in-python/\">Statistical analysis made easy in Python with SciPy and pandas DataFrames</a><br>\n",
    "</div>"
   ]
  },
  {
   "cell_type": "code",
   "execution_count": null,
   "metadata": {
    "collapsed": true
   },
   "outputs": [],
   "source": []
  }
 ],
 "metadata": {
  "kernelspec": {
   "display_name": "Python 3",
   "language": "python",
   "name": "python3"
  },
  "language_info": {
   "codemirror_mode": {
    "name": "ipython",
    "version": 3
   },
   "file_extension": ".py",
   "mimetype": "text/x-python",
   "name": "python",
   "nbconvert_exporter": "python",
   "pygments_lexer": "ipython3",
   "version": "3.4.3"
  }
 },
 "nbformat": 4,
 "nbformat_minor": 0
}
